{
 "cells": [
  {
   "cell_type": "markdown",
   "metadata": {},
   "source": [
    "# <center> Майнор \"Интеллектуальный анализ данных\" </center>"
   ]
  },
  {
   "cell_type": "markdown",
   "metadata": {},
   "source": [
    "# <center> Курс \"Введение в анализ данных\" </center>"
   ]
  },
  {
   "cell_type": "markdown",
   "metadata": {},
   "source": [
    "# <center> Лабораторная работа №1. Обработка и первичный анализ данных </center>\n",
    "# Южаков Максим, группа 3"
   ]
  },
  {
   "cell_type": "markdown",
   "metadata": {},
   "source": [
    "## Данные"
   ]
  },
  {
   "cell_type": "markdown",
   "metadata": {},
   "source": [
    "В рамках данной лабораторной работы вам предлагается проанализировать набор данных о студентах двух школ в Португалии.  \n",
    "В файле `students_data.csv` представлена информация о студентах, посещающих два курса - математику (`Math`) и поргутальский язык (`Por`). Некоторые студенты представлены в обоих курсах, некоторые - только в одном. Для каждого студента известны три оценки по курсу: оценка за первое полугодие (`G1`), оценка за второе полугодие (`G2`) и итоговая оценка за год (`G3`)."
   ]
  },
  {
   "cell_type": "code",
   "execution_count": 1,
   "metadata": {},
   "outputs": [],
   "source": [
    "import pandas as pd\n",
    "import seaborn as sns\n",
    "import matplotlib.pyplot as plt"
   ]
  },
  {
   "cell_type": "code",
   "execution_count": 2,
   "metadata": {},
   "outputs": [],
   "source": [
    "pd.set_option('display.max_columns', None)\n",
    "pd.set_option('display.max_colwidth', None)"
   ]
  },
  {
   "cell_type": "code",
   "execution_count": 3,
   "metadata": {},
   "outputs": [
    {
     "data": {
      "text/plain": [
       "(1044, 36)"
      ]
     },
     "execution_count": 3,
     "metadata": {},
     "output_type": "execute_result"
    }
   ],
   "source": [
    "data = pd.read_csv(\"students_data.csv\")\n",
    "data.shape"
   ]
  },
  {
   "cell_type": "code",
   "execution_count": 4,
   "metadata": {},
   "outputs": [
    {
     "data": {
      "text/html": [
       "<div>\n",
       "<style scoped>\n",
       "    .dataframe tbody tr th:only-of-type {\n",
       "        vertical-align: middle;\n",
       "    }\n",
       "\n",
       "    .dataframe tbody tr th {\n",
       "        vertical-align: top;\n",
       "    }\n",
       "\n",
       "    .dataframe thead th {\n",
       "        text-align: right;\n",
       "    }\n",
       "</style>\n",
       "<table border=\"1\" class=\"dataframe\">\n",
       "  <thead>\n",
       "    <tr style=\"text-align: right;\">\n",
       "      <th></th>\n",
       "      <th>ID</th>\n",
       "      <th>Subject</th>\n",
       "      <th>school</th>\n",
       "      <th>sex</th>\n",
       "      <th>age</th>\n",
       "      <th>address</th>\n",
       "      <th>famsize</th>\n",
       "      <th>Pstatus</th>\n",
       "      <th>Medu</th>\n",
       "      <th>Fedu</th>\n",
       "      <th>Mjob</th>\n",
       "      <th>Fjob</th>\n",
       "      <th>reason</th>\n",
       "      <th>guardian</th>\n",
       "      <th>traveltime</th>\n",
       "      <th>studytime</th>\n",
       "      <th>failures</th>\n",
       "      <th>schoolsup</th>\n",
       "      <th>famsup</th>\n",
       "      <th>paid</th>\n",
       "      <th>activities</th>\n",
       "      <th>nursery</th>\n",
       "      <th>higher</th>\n",
       "      <th>internet</th>\n",
       "      <th>romantic</th>\n",
       "      <th>famrel</th>\n",
       "      <th>freetime</th>\n",
       "      <th>goout</th>\n",
       "      <th>Dalc</th>\n",
       "      <th>Walc</th>\n",
       "      <th>health</th>\n",
       "      <th>absences</th>\n",
       "      <th>cheating</th>\n",
       "      <th>G1</th>\n",
       "      <th>G2</th>\n",
       "      <th>G3</th>\n",
       "    </tr>\n",
       "  </thead>\n",
       "  <tbody>\n",
       "    <tr>\n",
       "      <th>0</th>\n",
       "      <td>100097</td>\n",
       "      <td>Por</td>\n",
       "      <td>GP</td>\n",
       "      <td>F</td>\n",
       "      <td>16</td>\n",
       "      <td>U</td>\n",
       "      <td>GT3</td>\n",
       "      <td>A</td>\n",
       "      <td>3</td>\n",
       "      <td>4</td>\n",
       "      <td>services</td>\n",
       "      <td>other</td>\n",
       "      <td>course</td>\n",
       "      <td>father</td>\n",
       "      <td>1</td>\n",
       "      <td>1</td>\n",
       "      <td>0</td>\n",
       "      <td>no</td>\n",
       "      <td>no</td>\n",
       "      <td>no</td>\n",
       "      <td>no</td>\n",
       "      <td>yes</td>\n",
       "      <td>yes</td>\n",
       "      <td>yes</td>\n",
       "      <td>no</td>\n",
       "      <td>3.0</td>\n",
       "      <td>2</td>\n",
       "      <td>1</td>\n",
       "      <td>1.0</td>\n",
       "      <td>4.0</td>\n",
       "      <td>5</td>\n",
       "      <td>12</td>\n",
       "      <td>NaN</td>\n",
       "      <td>15</td>\n",
       "      <td>13</td>\n",
       "      <td>14</td>\n",
       "    </tr>\n",
       "    <tr>\n",
       "      <th>1</th>\n",
       "      <td>101021</td>\n",
       "      <td>Por</td>\n",
       "      <td>GP</td>\n",
       "      <td>F</td>\n",
       "      <td>17</td>\n",
       "      <td>U</td>\n",
       "      <td>GT3</td>\n",
       "      <td>T</td>\n",
       "      <td>3</td>\n",
       "      <td>2</td>\n",
       "      <td>other</td>\n",
       "      <td>other</td>\n",
       "      <td>course</td>\n",
       "      <td>mother</td>\n",
       "      <td>1</td>\n",
       "      <td>2</td>\n",
       "      <td>0</td>\n",
       "      <td>no</td>\n",
       "      <td>no</td>\n",
       "      <td>no</td>\n",
       "      <td>yes</td>\n",
       "      <td>no</td>\n",
       "      <td>yes</td>\n",
       "      <td>yes</td>\n",
       "      <td>no</td>\n",
       "      <td>5.0</td>\n",
       "      <td>3</td>\n",
       "      <td>4</td>\n",
       "      <td>1.0</td>\n",
       "      <td>3.0</td>\n",
       "      <td>3</td>\n",
       "      <td>2</td>\n",
       "      <td>NaN</td>\n",
       "      <td>17</td>\n",
       "      <td>18</td>\n",
       "      <td>17</td>\n",
       "    </tr>\n",
       "    <tr>\n",
       "      <th>2</th>\n",
       "      <td>102965</td>\n",
       "      <td>Por</td>\n",
       "      <td>GP</td>\n",
       "      <td>M</td>\n",
       "      <td>16</td>\n",
       "      <td>U</td>\n",
       "      <td>LE3</td>\n",
       "      <td>T</td>\n",
       "      <td>1</td>\n",
       "      <td>2</td>\n",
       "      <td>health</td>\n",
       "      <td>services</td>\n",
       "      <td>course</td>\n",
       "      <td>mother</td>\n",
       "      <td>2</td>\n",
       "      <td>1</td>\n",
       "      <td>2</td>\n",
       "      <td>no</td>\n",
       "      <td>no</td>\n",
       "      <td>no</td>\n",
       "      <td>no</td>\n",
       "      <td>no</td>\n",
       "      <td>yes</td>\n",
       "      <td>yes</td>\n",
       "      <td>no</td>\n",
       "      <td>4.0</td>\n",
       "      <td>4</td>\n",
       "      <td>5</td>\n",
       "      <td>3.0</td>\n",
       "      <td>5.0</td>\n",
       "      <td>5</td>\n",
       "      <td>0</td>\n",
       "      <td>yes</td>\n",
       "      <td>9</td>\n",
       "      <td>8</td>\n",
       "      <td>10</td>\n",
       "    </tr>\n",
       "    <tr>\n",
       "      <th>3</th>\n",
       "      <td>102989</td>\n",
       "      <td>Por</td>\n",
       "      <td>MS</td>\n",
       "      <td>M</td>\n",
       "      <td>17</td>\n",
       "      <td>U</td>\n",
       "      <td>GT3</td>\n",
       "      <td>T</td>\n",
       "      <td>2</td>\n",
       "      <td>3</td>\n",
       "      <td>other</td>\n",
       "      <td>services</td>\n",
       "      <td>home</td>\n",
       "      <td>father</td>\n",
       "      <td>2</td>\n",
       "      <td>2</td>\n",
       "      <td>0</td>\n",
       "      <td>no</td>\n",
       "      <td>no</td>\n",
       "      <td>no</td>\n",
       "      <td>yes</td>\n",
       "      <td>yes</td>\n",
       "      <td>yes</td>\n",
       "      <td>yes</td>\n",
       "      <td>no</td>\n",
       "      <td>4.0</td>\n",
       "      <td>4</td>\n",
       "      <td>3</td>\n",
       "      <td>1.0</td>\n",
       "      <td>1.0</td>\n",
       "      <td>3</td>\n",
       "      <td>4</td>\n",
       "      <td>no</td>\n",
       "      <td>14</td>\n",
       "      <td>15</td>\n",
       "      <td>16</td>\n",
       "    </tr>\n",
       "    <tr>\n",
       "      <th>4</th>\n",
       "      <td>103131</td>\n",
       "      <td>Por</td>\n",
       "      <td>GP</td>\n",
       "      <td>F</td>\n",
       "      <td>16</td>\n",
       "      <td>U</td>\n",
       "      <td>GT3</td>\n",
       "      <td>T</td>\n",
       "      <td>1</td>\n",
       "      <td>1</td>\n",
       "      <td>at_home</td>\n",
       "      <td>other</td>\n",
       "      <td>home</td>\n",
       "      <td>mother</td>\n",
       "      <td>2</td>\n",
       "      <td>1</td>\n",
       "      <td>0</td>\n",
       "      <td>no</td>\n",
       "      <td>yes</td>\n",
       "      <td>no</td>\n",
       "      <td>no</td>\n",
       "      <td>yes</td>\n",
       "      <td>yes</td>\n",
       "      <td>no</td>\n",
       "      <td>NaN</td>\n",
       "      <td>4.0</td>\n",
       "      <td>3</td>\n",
       "      <td>2</td>\n",
       "      <td>1.0</td>\n",
       "      <td>4.0</td>\n",
       "      <td>5</td>\n",
       "      <td>2</td>\n",
       "      <td>yes</td>\n",
       "      <td>12</td>\n",
       "      <td>13</td>\n",
       "      <td>13</td>\n",
       "    </tr>\n",
       "    <tr>\n",
       "      <th>5</th>\n",
       "      <td>103144</td>\n",
       "      <td>Por</td>\n",
       "      <td>GP</td>\n",
       "      <td>M</td>\n",
       "      <td>18</td>\n",
       "      <td>U</td>\n",
       "      <td>LE3</td>\n",
       "      <td>T</td>\n",
       "      <td>3</td>\n",
       "      <td>1</td>\n",
       "      <td>services</td>\n",
       "      <td>services</td>\n",
       "      <td>course</td>\n",
       "      <td>mother</td>\n",
       "      <td>2</td>\n",
       "      <td>1</td>\n",
       "      <td>0</td>\n",
       "      <td>no</td>\n",
       "      <td>no</td>\n",
       "      <td>no</td>\n",
       "      <td>yes</td>\n",
       "      <td>yes</td>\n",
       "      <td>yes</td>\n",
       "      <td>yes</td>\n",
       "      <td>yes</td>\n",
       "      <td>3.0</td>\n",
       "      <td>3</td>\n",
       "      <td>4</td>\n",
       "      <td>4.0</td>\n",
       "      <td>5.0</td>\n",
       "      <td>4</td>\n",
       "      <td>2</td>\n",
       "      <td>NaN</td>\n",
       "      <td>11</td>\n",
       "      <td>11</td>\n",
       "      <td>12</td>\n",
       "    </tr>\n",
       "    <tr>\n",
       "      <th>6</th>\n",
       "      <td>105257</td>\n",
       "      <td>Por</td>\n",
       "      <td>MS</td>\n",
       "      <td>F</td>\n",
       "      <td>18</td>\n",
       "      <td>U</td>\n",
       "      <td>GT3</td>\n",
       "      <td>T</td>\n",
       "      <td>1</td>\n",
       "      <td>1</td>\n",
       "      <td>other</td>\n",
       "      <td>other</td>\n",
       "      <td>course</td>\n",
       "      <td>mother</td>\n",
       "      <td>2</td>\n",
       "      <td>2</td>\n",
       "      <td>0</td>\n",
       "      <td>no</td>\n",
       "      <td>no</td>\n",
       "      <td>no</td>\n",
       "      <td>yes</td>\n",
       "      <td>yes</td>\n",
       "      <td>yes</td>\n",
       "      <td>no</td>\n",
       "      <td>no</td>\n",
       "      <td>1.0</td>\n",
       "      <td>1</td>\n",
       "      <td>1</td>\n",
       "      <td>1.0</td>\n",
       "      <td>1.0</td>\n",
       "      <td>5</td>\n",
       "      <td>6</td>\n",
       "      <td>NaN</td>\n",
       "      <td>11</td>\n",
       "      <td>12</td>\n",
       "      <td>9</td>\n",
       "    </tr>\n",
       "    <tr>\n",
       "      <th>7</th>\n",
       "      <td>107639</td>\n",
       "      <td>Por</td>\n",
       "      <td>MS</td>\n",
       "      <td>F</td>\n",
       "      <td>15</td>\n",
       "      <td>R</td>\n",
       "      <td>GT3</td>\n",
       "      <td>T</td>\n",
       "      <td>4</td>\n",
       "      <td>4</td>\n",
       "      <td>teacher</td>\n",
       "      <td>other</td>\n",
       "      <td>course</td>\n",
       "      <td>mother</td>\n",
       "      <td>2</td>\n",
       "      <td>1</td>\n",
       "      <td>0</td>\n",
       "      <td>no</td>\n",
       "      <td>no</td>\n",
       "      <td>no</td>\n",
       "      <td>no</td>\n",
       "      <td>yes</td>\n",
       "      <td>yes</td>\n",
       "      <td>yes</td>\n",
       "      <td>yes</td>\n",
       "      <td>1.0</td>\n",
       "      <td>5</td>\n",
       "      <td>1</td>\n",
       "      <td>3.0</td>\n",
       "      <td>5.0</td>\n",
       "      <td>5</td>\n",
       "      <td>0</td>\n",
       "      <td>NaN</td>\n",
       "      <td>13</td>\n",
       "      <td>14</td>\n",
       "      <td>14</td>\n",
       "    </tr>\n",
       "    <tr>\n",
       "      <th>8</th>\n",
       "      <td>107914</td>\n",
       "      <td>Math</td>\n",
       "      <td>GP</td>\n",
       "      <td>F</td>\n",
       "      <td>15</td>\n",
       "      <td>U</td>\n",
       "      <td>LE3</td>\n",
       "      <td>T</td>\n",
       "      <td>3</td>\n",
       "      <td>2</td>\n",
       "      <td>services</td>\n",
       "      <td>other</td>\n",
       "      <td>reputation</td>\n",
       "      <td>mother</td>\n",
       "      <td>1</td>\n",
       "      <td>2</td>\n",
       "      <td>0</td>\n",
       "      <td>no</td>\n",
       "      <td>yes</td>\n",
       "      <td>yes</td>\n",
       "      <td>no</td>\n",
       "      <td>yes</td>\n",
       "      <td>yes</td>\n",
       "      <td>yes</td>\n",
       "      <td>no</td>\n",
       "      <td>4.0</td>\n",
       "      <td>4</td>\n",
       "      <td>4</td>\n",
       "      <td>1.0</td>\n",
       "      <td>1.0</td>\n",
       "      <td>5</td>\n",
       "      <td>10</td>\n",
       "      <td>no</td>\n",
       "      <td>7</td>\n",
       "      <td>6</td>\n",
       "      <td>6</td>\n",
       "    </tr>\n",
       "    <tr>\n",
       "      <th>9</th>\n",
       "      <td>108089</td>\n",
       "      <td>Por</td>\n",
       "      <td>MS</td>\n",
       "      <td>M</td>\n",
       "      <td>16</td>\n",
       "      <td>R</td>\n",
       "      <td>GT3</td>\n",
       "      <td>T</td>\n",
       "      <td>3</td>\n",
       "      <td>4</td>\n",
       "      <td>other</td>\n",
       "      <td>health</td>\n",
       "      <td>other</td>\n",
       "      <td>mother</td>\n",
       "      <td>3</td>\n",
       "      <td>2</td>\n",
       "      <td>0</td>\n",
       "      <td>no</td>\n",
       "      <td>no</td>\n",
       "      <td>no</td>\n",
       "      <td>no</td>\n",
       "      <td>no</td>\n",
       "      <td>yes</td>\n",
       "      <td>no</td>\n",
       "      <td>no</td>\n",
       "      <td>3.0</td>\n",
       "      <td>4</td>\n",
       "      <td>5</td>\n",
       "      <td>1.0</td>\n",
       "      <td>2.0</td>\n",
       "      <td>5</td>\n",
       "      <td>4</td>\n",
       "      <td>NaN</td>\n",
       "      <td>9</td>\n",
       "      <td>10</td>\n",
       "      <td>11</td>\n",
       "    </tr>\n",
       "    <tr>\n",
       "      <th>10</th>\n",
       "      <td>108254</td>\n",
       "      <td>Por</td>\n",
       "      <td>GP</td>\n",
       "      <td>M</td>\n",
       "      <td>15</td>\n",
       "      <td>U</td>\n",
       "      <td>LE3</td>\n",
       "      <td>T</td>\n",
       "      <td>4</td>\n",
       "      <td>4</td>\n",
       "      <td>health</td>\n",
       "      <td>services</td>\n",
       "      <td>course</td>\n",
       "      <td>father</td>\n",
       "      <td>1</td>\n",
       "      <td>1</td>\n",
       "      <td>0</td>\n",
       "      <td>no</td>\n",
       "      <td>yes</td>\n",
       "      <td>no</td>\n",
       "      <td>yes</td>\n",
       "      <td>yes</td>\n",
       "      <td>yes</td>\n",
       "      <td>yes</td>\n",
       "      <td>no</td>\n",
       "      <td>4.0</td>\n",
       "      <td>3</td>\n",
       "      <td>3</td>\n",
       "      <td>1.0</td>\n",
       "      <td>3.0</td>\n",
       "      <td>5</td>\n",
       "      <td>0</td>\n",
       "      <td>NaN</td>\n",
       "      <td>12</td>\n",
       "      <td>13</td>\n",
       "      <td>12</td>\n",
       "    </tr>\n",
       "    <tr>\n",
       "      <th>11</th>\n",
       "      <td>108296</td>\n",
       "      <td>Por</td>\n",
       "      <td>GP</td>\n",
       "      <td>M</td>\n",
       "      <td>18</td>\n",
       "      <td>U</td>\n",
       "      <td>LE3</td>\n",
       "      <td>T</td>\n",
       "      <td>3</td>\n",
       "      <td>4</td>\n",
       "      <td>services</td>\n",
       "      <td>other</td>\n",
       "      <td>home</td>\n",
       "      <td>mother</td>\n",
       "      <td>1</td>\n",
       "      <td>2</td>\n",
       "      <td>0</td>\n",
       "      <td>no</td>\n",
       "      <td>no</td>\n",
       "      <td>no</td>\n",
       "      <td>yes</td>\n",
       "      <td>yes</td>\n",
       "      <td>yes</td>\n",
       "      <td>yes</td>\n",
       "      <td>yes</td>\n",
       "      <td>4.0</td>\n",
       "      <td>3</td>\n",
       "      <td>3</td>\n",
       "      <td>1.0</td>\n",
       "      <td>3.0</td>\n",
       "      <td>5</td>\n",
       "      <td>6</td>\n",
       "      <td>no</td>\n",
       "      <td>16</td>\n",
       "      <td>16</td>\n",
       "      <td>17</td>\n",
       "    </tr>\n",
       "    <tr>\n",
       "      <th>12</th>\n",
       "      <td>108753</td>\n",
       "      <td>Math</td>\n",
       "      <td>MS</td>\n",
       "      <td>F</td>\n",
       "      <td>18</td>\n",
       "      <td>R</td>\n",
       "      <td>GT3</td>\n",
       "      <td>T</td>\n",
       "      <td>4</td>\n",
       "      <td>4</td>\n",
       "      <td>teacher</td>\n",
       "      <td>at-home</td>\n",
       "      <td>reputation</td>\n",
       "      <td>mother</td>\n",
       "      <td>3</td>\n",
       "      <td>1</td>\n",
       "      <td>0</td>\n",
       "      <td>no</td>\n",
       "      <td>yes</td>\n",
       "      <td>yes</td>\n",
       "      <td>yes</td>\n",
       "      <td>yes</td>\n",
       "      <td>yes</td>\n",
       "      <td>yes</td>\n",
       "      <td>yes</td>\n",
       "      <td>4.0</td>\n",
       "      <td>4</td>\n",
       "      <td>3</td>\n",
       "      <td>2.0</td>\n",
       "      <td>2.0</td>\n",
       "      <td>5</td>\n",
       "      <td>7</td>\n",
       "      <td>NaN</td>\n",
       "      <td>6</td>\n",
       "      <td>5</td>\n",
       "      <td>6</td>\n",
       "    </tr>\n",
       "    <tr>\n",
       "      <th>13</th>\n",
       "      <td>108825</td>\n",
       "      <td>Por</td>\n",
       "      <td>GP</td>\n",
       "      <td>M</td>\n",
       "      <td>15</td>\n",
       "      <td>U</td>\n",
       "      <td>GT3</td>\n",
       "      <td>T</td>\n",
       "      <td>4</td>\n",
       "      <td>3</td>\n",
       "      <td>teacher</td>\n",
       "      <td>other</td>\n",
       "      <td>home</td>\n",
       "      <td>mother</td>\n",
       "      <td>1</td>\n",
       "      <td>2</td>\n",
       "      <td>0</td>\n",
       "      <td>no</td>\n",
       "      <td>yes</td>\n",
       "      <td>no</td>\n",
       "      <td>yes</td>\n",
       "      <td>yes</td>\n",
       "      <td>yes</td>\n",
       "      <td>yes</td>\n",
       "      <td>no</td>\n",
       "      <td>4.0</td>\n",
       "      <td>3</td>\n",
       "      <td>3</td>\n",
       "      <td>2.0</td>\n",
       "      <td>3.0</td>\n",
       "      <td>5</td>\n",
       "      <td>0</td>\n",
       "      <td>yes</td>\n",
       "      <td>11</td>\n",
       "      <td>11</td>\n",
       "      <td>11</td>\n",
       "    </tr>\n",
       "    <tr>\n",
       "      <th>14</th>\n",
       "      <td>114462</td>\n",
       "      <td>Math</td>\n",
       "      <td>GP</td>\n",
       "      <td>F</td>\n",
       "      <td>16</td>\n",
       "      <td>U</td>\n",
       "      <td>LE3</td>\n",
       "      <td>T</td>\n",
       "      <td>2</td>\n",
       "      <td>2</td>\n",
       "      <td>at_home</td>\n",
       "      <td>other</td>\n",
       "      <td>course</td>\n",
       "      <td>mother</td>\n",
       "      <td>1</td>\n",
       "      <td>2</td>\n",
       "      <td>0</td>\n",
       "      <td>no</td>\n",
       "      <td>yes</td>\n",
       "      <td>no</td>\n",
       "      <td>no</td>\n",
       "      <td>yes</td>\n",
       "      <td>yes</td>\n",
       "      <td>no</td>\n",
       "      <td>no</td>\n",
       "      <td>4.0</td>\n",
       "      <td>3</td>\n",
       "      <td>4</td>\n",
       "      <td>1.0</td>\n",
       "      <td>2.0</td>\n",
       "      <td>2</td>\n",
       "      <td>4</td>\n",
       "      <td>yes</td>\n",
       "      <td>8</td>\n",
       "      <td>7</td>\n",
       "      <td>6</td>\n",
       "    </tr>\n",
       "  </tbody>\n",
       "</table>\n",
       "</div>"
      ],
      "text/plain": [
       "        ID Subject school sex  age address famsize Pstatus Medu Fedu  \\\n",
       "0   100097     Por     GP   F   16       U     GT3       A    3    4   \n",
       "1   101021     Por     GP   F   17       U     GT3       T    3    2   \n",
       "2   102965     Por     GP   M   16       U     LE3       T    1    2   \n",
       "3   102989     Por     MS   M   17       U     GT3       T    2    3   \n",
       "4   103131     Por     GP   F   16       U     GT3       T    1    1   \n",
       "5   103144     Por     GP   M   18       U     LE3       T    3    1   \n",
       "6   105257     Por     MS   F   18       U     GT3       T    1    1   \n",
       "7   107639     Por     MS   F   15       R     GT3       T    4    4   \n",
       "8   107914    Math     GP   F   15       U     LE3       T    3    2   \n",
       "9   108089     Por     MS   M   16       R     GT3       T    3    4   \n",
       "10  108254     Por     GP   M   15       U     LE3       T    4    4   \n",
       "11  108296     Por     GP   M   18       U     LE3       T    3    4   \n",
       "12  108753    Math     MS   F   18       R     GT3       T    4    4   \n",
       "13  108825     Por     GP   M   15       U     GT3       T    4    3   \n",
       "14  114462    Math     GP   F   16       U     LE3       T    2    2   \n",
       "\n",
       "        Mjob      Fjob      reason guardian  traveltime  studytime  failures  \\\n",
       "0   services     other      course   father           1          1         0   \n",
       "1      other     other      course   mother           1          2         0   \n",
       "2     health  services      course   mother           2          1         2   \n",
       "3      other  services        home   father           2          2         0   \n",
       "4    at_home     other        home   mother           2          1         0   \n",
       "5   services  services      course   mother           2          1         0   \n",
       "6      other     other      course   mother           2          2         0   \n",
       "7    teacher     other      course   mother           2          1         0   \n",
       "8   services     other  reputation   mother           1          2         0   \n",
       "9      other    health       other   mother           3          2         0   \n",
       "10    health  services      course   father           1          1         0   \n",
       "11  services     other        home   mother           1          2         0   \n",
       "12   teacher   at-home  reputation   mother           3          1         0   \n",
       "13   teacher     other        home   mother           1          2         0   \n",
       "14   at_home     other      course   mother           1          2         0   \n",
       "\n",
       "   schoolsup famsup paid activities nursery higher internet romantic  famrel  \\\n",
       "0         no     no   no         no     yes    yes      yes       no     3.0   \n",
       "1         no     no   no        yes      no    yes      yes       no     5.0   \n",
       "2         no     no   no         no      no    yes      yes       no     4.0   \n",
       "3         no     no   no        yes     yes    yes      yes       no     4.0   \n",
       "4         no    yes   no         no     yes    yes       no      NaN     4.0   \n",
       "5         no     no   no        yes     yes    yes      yes      yes     3.0   \n",
       "6         no     no   no        yes     yes    yes       no       no     1.0   \n",
       "7         no     no   no         no     yes    yes      yes      yes     1.0   \n",
       "8         no    yes  yes         no     yes    yes      yes       no     4.0   \n",
       "9         no     no   no         no      no    yes       no       no     3.0   \n",
       "10        no    yes   no        yes     yes    yes      yes       no     4.0   \n",
       "11        no     no   no        yes     yes    yes      yes      yes     4.0   \n",
       "12        no    yes  yes        yes     yes    yes      yes      yes     4.0   \n",
       "13        no    yes   no        yes     yes    yes      yes       no     4.0   \n",
       "14        no    yes   no         no     yes    yes       no       no     4.0   \n",
       "\n",
       "    freetime  goout  Dalc  Walc  health  absences cheating  G1  G2  G3  \n",
       "0          2      1   1.0   4.0       5        12      NaN  15  13  14  \n",
       "1          3      4   1.0   3.0       3         2      NaN  17  18  17  \n",
       "2          4      5   3.0   5.0       5         0      yes   9   8  10  \n",
       "3          4      3   1.0   1.0       3         4       no  14  15  16  \n",
       "4          3      2   1.0   4.0       5         2      yes  12  13  13  \n",
       "5          3      4   4.0   5.0       4         2      NaN  11  11  12  \n",
       "6          1      1   1.0   1.0       5         6      NaN  11  12   9  \n",
       "7          5      1   3.0   5.0       5         0      NaN  13  14  14  \n",
       "8          4      4   1.0   1.0       5        10       no   7   6   6  \n",
       "9          4      5   1.0   2.0       5         4      NaN   9  10  11  \n",
       "10         3      3   1.0   3.0       5         0      NaN  12  13  12  \n",
       "11         3      3   1.0   3.0       5         6       no  16  16  17  \n",
       "12         4      3   2.0   2.0       5         7      NaN   6   5   6  \n",
       "13         3      3   2.0   3.0       5         0      yes  11  11  11  \n",
       "14         3      4   1.0   2.0       2         4      yes   8   7   6  "
      ]
     },
     "execution_count": 4,
     "metadata": {},
     "output_type": "execute_result"
    }
   ],
   "source": [
    "data.head(15)"
   ]
  },
  {
   "cell_type": "markdown",
   "metadata": {},
   "source": [
    "### Признаки"
   ]
  },
  {
   "cell_type": "markdown",
   "metadata": {},
   "source": [
    "Данные представлены признаками различных типов: числовыми, категориальными, упорядоченными категориальными."
   ]
  },
  {
   "cell_type": "markdown",
   "metadata": {},
   "source": [
    "**Описание признаков:**"
   ]
  },
  {
   "cell_type": "code",
   "execution_count": 4,
   "metadata": {},
   "outputs": [
    {
     "data": {
      "text/html": [
       "<div>\n",
       "<style scoped>\n",
       "    .dataframe tbody tr th:only-of-type {\n",
       "        vertical-align: middle;\n",
       "    }\n",
       "\n",
       "    .dataframe tbody tr th {\n",
       "        vertical-align: top;\n",
       "    }\n",
       "\n",
       "    .dataframe thead th {\n",
       "        text-align: right;\n",
       "    }\n",
       "</style>\n",
       "<table border=\"1\" class=\"dataframe\">\n",
       "  <thead>\n",
       "    <tr style=\"text-align: right;\">\n",
       "      <th></th>\n",
       "      <th>Признак</th>\n",
       "      <th>Описание</th>\n",
       "    </tr>\n",
       "  </thead>\n",
       "  <tbody>\n",
       "    <tr>\n",
       "      <th>0</th>\n",
       "      <td>ID</td>\n",
       "      <td>Уникальный номер наблюдения</td>\n",
       "    </tr>\n",
       "    <tr>\n",
       "      <th>1</th>\n",
       "      <td>Subject</td>\n",
       "      <td>Предмет: 'Math' - математика, 'Por' - португальский язык</td>\n",
       "    </tr>\n",
       "    <tr>\n",
       "      <th>2</th>\n",
       "      <td>school</td>\n",
       "      <td>Школа: 'GP' - Gabriel Pereira, 'MS' - Mousinho da Silveira</td>\n",
       "    </tr>\n",
       "    <tr>\n",
       "      <th>3</th>\n",
       "      <td>sex</td>\n",
       "      <td>Пол студента: 'F' - женский, 'M' - мужской</td>\n",
       "    </tr>\n",
       "    <tr>\n",
       "      <th>4</th>\n",
       "      <td>age</td>\n",
       "      <td>Возраст студента</td>\n",
       "    </tr>\n",
       "    <tr>\n",
       "      <th>5</th>\n",
       "      <td>address</td>\n",
       "      <td>Место проживания студента: 'U' - в городе, 'R' - за городом</td>\n",
       "    </tr>\n",
       "    <tr>\n",
       "      <th>6</th>\n",
       "      <td>famsize</td>\n",
       "      <td>Число членов семьи: 'LE3' - если &lt;= 3, 'GT3' - если &gt; 3</td>\n",
       "    </tr>\n",
       "    <tr>\n",
       "      <th>7</th>\n",
       "      <td>Pstatus</td>\n",
       "      <td>Отношения родителей: 'T' - живут вместе, 'A' - живут раздельно</td>\n",
       "    </tr>\n",
       "    <tr>\n",
       "      <th>8</th>\n",
       "      <td>Medu</td>\n",
       "      <td>Образование матери: 0 - без образования, 1 - начальная школа, 2 – от 5 до 9 классов, 3 – среднее образование, 4 – высшее образование</td>\n",
       "    </tr>\n",
       "    <tr>\n",
       "      <th>9</th>\n",
       "      <td>Fedu</td>\n",
       "      <td>Образование отца: 0 - без образования, 1 - начальная школа, 2 – от 5 до 9 классов, 3 – среднее образование, 4 – высшее образование</td>\n",
       "    </tr>\n",
       "    <tr>\n",
       "      <th>10</th>\n",
       "      <td>Mjob</td>\n",
       "      <td>Работа матери: 'teacher' - связана с преподаванием, 'health'  - связана с здравоохранением, 'services' - администрация и полиция, 'at_home' - домашняя занятость, 'other' - другое</td>\n",
       "    </tr>\n",
       "    <tr>\n",
       "      <th>11</th>\n",
       "      <td>Fjob</td>\n",
       "      <td>Работа отца: 'teacher' - связана с преподаванием, 'health'  - связана с здравоохранением, 'services' - администрация и полиция, 'at_home' - домашняя занятость, 'other' - другое</td>\n",
       "    </tr>\n",
       "    <tr>\n",
       "      <th>12</th>\n",
       "      <td>reason</td>\n",
       "      <td>Причина, по которой студент выбрал данную школу: 'home' - рядом с домом, 'reputation' - репутация школы, 'course' - читаемые курсы, 'other' - другое</td>\n",
       "    </tr>\n",
       "    <tr>\n",
       "      <th>13</th>\n",
       "      <td>guardian</td>\n",
       "      <td>Опекун студента (student's guardian): 'mother', 'father' или 'other'</td>\n",
       "    </tr>\n",
       "    <tr>\n",
       "      <th>14</th>\n",
       "      <td>traveltime</td>\n",
       "      <td>Время в пути от дома до школы: 1 - &lt; 15 мин, 2 - от 15 до 30 мин, 3 - от 30 мин до 1 часа, 4 - &gt; 1 часа</td>\n",
       "    </tr>\n",
       "    <tr>\n",
       "      <th>15</th>\n",
       "      <td>studytime</td>\n",
       "      <td>Количество часов на учебу в неделю: 1 - &lt; 2 часов, 2 - от 2 до 5 часов, 3 - от 5 до 10 часов, 4 - &gt; 10 часов</td>\n",
       "    </tr>\n",
       "    <tr>\n",
       "      <th>16</th>\n",
       "      <td>failures</td>\n",
       "      <td>Число завалов студента по предыдущим курсам:  n если 0&lt;=n&lt;3, иначе 3</td>\n",
       "    </tr>\n",
       "    <tr>\n",
       "      <th>17</th>\n",
       "      <td>schoolsup</td>\n",
       "      <td>Дополнительная помощь в учебе: yes или no</td>\n",
       "    </tr>\n",
       "    <tr>\n",
       "      <th>18</th>\n",
       "      <td>famsup</td>\n",
       "      <td>Дополнительная помощь в учебе от членов семьи: yes или no</td>\n",
       "    </tr>\n",
       "    <tr>\n",
       "      <th>19</th>\n",
       "      <td>paid</td>\n",
       "      <td>Платные дополнительные занятия по соответствущему курсу ('Math' или 'Por'): yes или no</td>\n",
       "    </tr>\n",
       "    <tr>\n",
       "      <th>20</th>\n",
       "      <td>activities</td>\n",
       "      <td>Внеучебные активности: yes или no</td>\n",
       "    </tr>\n",
       "    <tr>\n",
       "      <th>21</th>\n",
       "      <td>nursery</td>\n",
       "      <td>Ходил в детстве в детский сад: yes или no</td>\n",
       "    </tr>\n",
       "    <tr>\n",
       "      <th>22</th>\n",
       "      <td>higher</td>\n",
       "      <td>Собирается получать высшее образование: yes или no</td>\n",
       "    </tr>\n",
       "    <tr>\n",
       "      <th>23</th>\n",
       "      <td>internet</td>\n",
       "      <td>Есть доступ к всемирной сети из дома: yes или no</td>\n",
       "    </tr>\n",
       "    <tr>\n",
       "      <th>24</th>\n",
       "      <td>romantic</td>\n",
       "      <td>Состоит в романтических отношениях: yes или no</td>\n",
       "    </tr>\n",
       "    <tr>\n",
       "      <th>25</th>\n",
       "      <td>famrel</td>\n",
       "      <td>Отношения в семье: от 1 - очень плохие, до 5 - прекрасные</td>\n",
       "    </tr>\n",
       "    <tr>\n",
       "      <th>26</th>\n",
       "      <td>freetime</td>\n",
       "      <td>Свободное время после занятий: от 1 - очень мало, до 5 - очень много</td>\n",
       "    </tr>\n",
       "    <tr>\n",
       "      <th>27</th>\n",
       "      <td>goout</td>\n",
       "      <td>Проводит время с друзьями: от 1 - очень редко/мало, до 5 - очень часто/много</td>\n",
       "    </tr>\n",
       "    <tr>\n",
       "      <th>28</th>\n",
       "      <td>Dalc</td>\n",
       "      <td>Потребление алкоголя в будни: от 1 - очень мало, до 5 - очень много</td>\n",
       "    </tr>\n",
       "    <tr>\n",
       "      <th>29</th>\n",
       "      <td>Walc</td>\n",
       "      <td>Потребление алкоголя в выходные: от 1 - очень мало, до 5 - очень много</td>\n",
       "    </tr>\n",
       "    <tr>\n",
       "      <th>30</th>\n",
       "      <td>health</td>\n",
       "      <td>Состояние здоровья: от 1 - очень плохое, до 5  - очень хорошее</td>\n",
       "    </tr>\n",
       "    <tr>\n",
       "      <th>31</th>\n",
       "      <td>absences</td>\n",
       "      <td>Число пропусков: сколько раз пропустил занятия в школе</td>\n",
       "    </tr>\n",
       "    <tr>\n",
       "      <th>32</th>\n",
       "      <td>cheating</td>\n",
       "      <td>Списывает ли на тестах: yes или no</td>\n",
       "    </tr>\n",
       "    <tr>\n",
       "      <th>33</th>\n",
       "      <td>G1</td>\n",
       "      <td>Оценка за первое полугодние: от 0 до 20</td>\n",
       "    </tr>\n",
       "    <tr>\n",
       "      <th>34</th>\n",
       "      <td>G2</td>\n",
       "      <td>Оценка за второе полугодие: от 0 до 20</td>\n",
       "    </tr>\n",
       "    <tr>\n",
       "      <th>35</th>\n",
       "      <td>G3</td>\n",
       "      <td>Итоговая оценка: от 0 до 20</td>\n",
       "    </tr>\n",
       "  </tbody>\n",
       "</table>\n",
       "</div>"
      ],
      "text/plain": [
       "       Признак  \\\n",
       "0           ID   \n",
       "1      Subject   \n",
       "2       school   \n",
       "3          sex   \n",
       "4          age   \n",
       "5      address   \n",
       "6      famsize   \n",
       "7      Pstatus   \n",
       "8         Medu   \n",
       "9         Fedu   \n",
       "10        Mjob   \n",
       "11        Fjob   \n",
       "12      reason   \n",
       "13    guardian   \n",
       "14  traveltime   \n",
       "15   studytime   \n",
       "16    failures   \n",
       "17   schoolsup   \n",
       "18      famsup   \n",
       "19        paid   \n",
       "20  activities   \n",
       "21     nursery   \n",
       "22      higher   \n",
       "23    internet   \n",
       "24    romantic   \n",
       "25      famrel   \n",
       "26    freetime   \n",
       "27       goout   \n",
       "28        Dalc   \n",
       "29        Walc   \n",
       "30      health   \n",
       "31    absences   \n",
       "32    cheating   \n",
       "33          G1   \n",
       "34          G2   \n",
       "35          G3   \n",
       "\n",
       "                                                                                                                                                                              Описание  \n",
       "0                                                                                                                                                          Уникальный номер наблюдения  \n",
       "1                                                                                                                             Предмет: 'Math' - математика, 'Por' - португальский язык  \n",
       "2                                                                                                                           Школа: 'GP' - Gabriel Pereira, 'MS' - Mousinho da Silveira  \n",
       "3                                                                                                                                           Пол студента: 'F' - женский, 'M' - мужской  \n",
       "4                                                                                                                                                                     Возраст студента  \n",
       "5                                                                                                                          Место проживания студента: 'U' - в городе, 'R' - за городом  \n",
       "6                                                                                                                              Число членов семьи: 'LE3' - если <= 3, 'GT3' - если > 3  \n",
       "7                                                                                                                       Отношения родителей: 'T' - живут вместе, 'A' - живут раздельно  \n",
       "8                                                 Образование матери: 0 - без образования, 1 - начальная школа, 2 – от 5 до 9 классов, 3 – среднее образование, 4 – высшее образование  \n",
       "9                                                   Образование отца: 0 - без образования, 1 - начальная школа, 2 – от 5 до 9 классов, 3 – среднее образование, 4 – высшее образование  \n",
       "10  Работа матери: 'teacher' - связана с преподаванием, 'health'  - связана с здравоохранением, 'services' - администрация и полиция, 'at_home' - домашняя занятость, 'other' - другое  \n",
       "11    Работа отца: 'teacher' - связана с преподаванием, 'health'  - связана с здравоохранением, 'services' - администрация и полиция, 'at_home' - домашняя занятость, 'other' - другое  \n",
       "12                                Причина, по которой студент выбрал данную школу: 'home' - рядом с домом, 'reputation' - репутация школы, 'course' - читаемые курсы, 'other' - другое  \n",
       "13                                                                                                                Опекун студента (student's guardian): 'mother', 'father' или 'other'  \n",
       "14                                                                             Время в пути от дома до школы: 1 - < 15 мин, 2 - от 15 до 30 мин, 3 - от 30 мин до 1 часа, 4 - > 1 часа  \n",
       "15                                                                        Количество часов на учебу в неделю: 1 - < 2 часов, 2 - от 2 до 5 часов, 3 - от 5 до 10 часов, 4 - > 10 часов  \n",
       "16                                                                                                                Число завалов студента по предыдущим курсам:  n если 0<=n<3, иначе 3  \n",
       "17                                                                                                                                           Дополнительная помощь в учебе: yes или no  \n",
       "18                                                                                                                           Дополнительная помощь в учебе от членов семьи: yes или no  \n",
       "19                                                                                              Платные дополнительные занятия по соответствущему курсу ('Math' или 'Por'): yes или no  \n",
       "20                                                                                                                                                   Внеучебные активности: yes или no  \n",
       "21                                                                                                                                           Ходил в детстве в детский сад: yes или no  \n",
       "22                                                                                                                                  Собирается получать высшее образование: yes или no  \n",
       "23                                                                                                                                    Есть доступ к всемирной сети из дома: yes или no  \n",
       "24                                                                                                                                      Состоит в романтических отношениях: yes или no  \n",
       "25                                                                                                                           Отношения в семье: от 1 - очень плохие, до 5 - прекрасные  \n",
       "26                                                                                                                Свободное время после занятий: от 1 - очень мало, до 5 - очень много  \n",
       "27                                                                                                        Проводит время с друзьями: от 1 - очень редко/мало, до 5 - очень часто/много  \n",
       "28                                                                                                                 Потребление алкоголя в будни: от 1 - очень мало, до 5 - очень много  \n",
       "29                                                                                                              Потребление алкоголя в выходные: от 1 - очень мало, до 5 - очень много  \n",
       "30                                                                                                                      Состояние здоровья: от 1 - очень плохое, до 5  - очень хорошее  \n",
       "31                                                                                                                              Число пропусков: сколько раз пропустил занятия в школе  \n",
       "32                                                                                                                                                  Списывает ли на тестах: yes или no  \n",
       "33                                                                                                                                             Оценка за первое полугодние: от 0 до 20  \n",
       "34                                                                                                                                              Оценка за второе полугодие: от 0 до 20  \n",
       "35                                                                                                                                                         Итоговая оценка: от 0 до 20  "
      ]
     },
     "execution_count": 4,
     "metadata": {},
     "output_type": "execute_result"
    }
   ],
   "source": [
    "pd.read_csv('students_data_features.csv',\n",
    "            delimiter=';',\n",
    "            encoding='windows-1251')"
   ]
  },
  {
   "cell_type": "markdown",
   "metadata": {},
   "source": [
    "<br>  \n",
    "\n",
    "## Задания"
   ]
  },
  {
   "cell_type": "markdown",
   "metadata": {},
   "source": [
    "**NB:** Обратите внимание, что часть студентов посещают оба курса и представлены в данных два раза. Из-за этого некоторые результаты анализа могут быть искажены. Имеет смысл выявить таких студентов заранее ([Задание 11](#task11)) и учитывать эту информацию при анализе."
   ]
  },
  {
   "cell_type": "markdown",
   "metadata": {},
   "source": [
    "### Задание 1  \n",
    "  \n",
    " * Для каждого признака определите, к какому типу он относится.   \n",
    " * Проверьте значения признаков на наличие опечаток и ошибок, исправьте их.<br>\n",
    "   __Note:__ Исправлять ошибки нужно программно, модифицировать руками исходный файл нельзя.\n",
    " * При необходимости, приведите признак к определенному вами типу."
   ]
  },
  {
   "cell_type": "code",
   "execution_count": 4,
   "metadata": {},
   "outputs": [
    {
     "data": {
      "text/plain": [
       "ID              int64\n",
       "Subject        object\n",
       "school         object\n",
       "sex            object\n",
       "age             int64\n",
       "address        object\n",
       "famsize        object\n",
       "Pstatus        object\n",
       "Medu           object\n",
       "Fedu           object\n",
       "Mjob           object\n",
       "Fjob           object\n",
       "reason         object\n",
       "guardian       object\n",
       "traveltime      int64\n",
       "studytime       int64\n",
       "failures        int64\n",
       "schoolsup      object\n",
       "famsup         object\n",
       "paid           object\n",
       "activities     object\n",
       "nursery        object\n",
       "higher         object\n",
       "internet       object\n",
       "romantic       object\n",
       "famrel        float64\n",
       "freetime        int64\n",
       "goout           int64\n",
       "Dalc          float64\n",
       "Walc          float64\n",
       "health          int64\n",
       "absences        int64\n",
       "cheating       object\n",
       "G1              int64\n",
       "G2              int64\n",
       "G3              int64\n",
       "dtype: object"
      ]
     },
     "execution_count": 4,
     "metadata": {},
     "output_type": "execute_result"
    }
   ],
   "source": [
    "data.dtypes"
   ]
  },
  {
   "cell_type": "markdown",
   "metadata": {},
   "source": [
    "В нижеуказанных признаках есть опечатки.Например, при выводе data.sex.value_counts() помимо M и F есть значение m или в некоторых признаках вместо 0 записана буква о."
   ]
  },
  {
   "cell_type": "code",
   "execution_count": 5,
   "metadata": {},
   "outputs": [
    {
     "data": {
      "text/plain": [
       "F    591\n",
       "M    446\n",
       "m      7\n",
       "Name: sex, dtype: int64"
      ]
     },
     "execution_count": 5,
     "metadata": {},
     "output_type": "execute_result"
    }
   ],
   "source": [
    "data.sex.value_counts()"
   ]
  },
  {
   "cell_type": "code",
   "execution_count": 4,
   "metadata": {},
   "outputs": [],
   "source": [
    "data.sex = data.sex.apply(lambda x: 'M' if x=='m' else x)\n",
    "data.Pstatus = data.Pstatus.apply(lambda x: 'T' if x=='t' else x)\n",
    "data.Medu = data.Medu.apply(lambda x: '0' if x=='o' else x)\n",
    "data.Fedu = data.Fedu.apply(lambda x: '0' if x=='o' else x)\n",
    "data.Mjob = data.Mjob.apply(lambda x: 'at_home' if x=='at-home' else x)\n",
    "data.Fjob = data.Fjob.apply(lambda x: 'at_home' if x=='at-home' else x)\n",
    "data.guardian = data.guardian.apply(lambda x: 'father' if x=='futher' else x)"
   ]
  },
  {
   "cell_type": "code",
   "execution_count": 7,
   "metadata": {},
   "outputs": [
    {
     "data": {
      "text/plain": [
       "F    591\n",
       "M    453\n",
       "Name: sex, dtype: int64"
      ]
     },
     "execution_count": 7,
     "metadata": {},
     "output_type": "execute_result"
    }
   ],
   "source": [
    "data.sex.value_counts()"
   ]
  },
  {
   "cell_type": "markdown",
   "metadata": {},
   "source": [
    "Так же приведем некоторые категориальные признаки к интовским значениям, чтобы в дальнейшем было удобнее строить с ними графики"
   ]
  },
  {
   "cell_type": "code",
   "execution_count": 5,
   "metadata": {},
   "outputs": [],
   "source": [
    "for i in ['schoolsup','famsup','paid','activities','nursery','higher','internet','romantic']:\n",
    "    data[i] = data[i].apply(lambda x: '0' if x=='no' else '1')\n",
    "    data[i] = data[i].astype(int)"
   ]
  },
  {
   "cell_type": "markdown",
   "metadata": {},
   "source": [
    "### Задание 2  \n",
    "  \n",
    "Проверьте, присутствуют ли в данных пропущенные значения. Сколько? В каких признаках?  \n",
    "По каждому такому признаку предложите и обоснуйте, что делать с пропущенными значениями."
   ]
  },
  {
   "cell_type": "code",
   "execution_count": 9,
   "metadata": {},
   "outputs": [
    {
     "name": "stdout",
     "output_type": "stream",
     "text": [
      "<class 'pandas.core.frame.DataFrame'>\n",
      "RangeIndex: 1044 entries, 0 to 1043\n",
      "Data columns (total 36 columns):\n",
      " #   Column      Non-Null Count  Dtype  \n",
      "---  ------      --------------  -----  \n",
      " 0   ID          1044 non-null   int64  \n",
      " 1   Subject     1044 non-null   object \n",
      " 2   school      1044 non-null   object \n",
      " 3   sex         1044 non-null   object \n",
      " 4   age         1044 non-null   int64  \n",
      " 5   address     1044 non-null   object \n",
      " 6   famsize     1044 non-null   object \n",
      " 7   Pstatus     1044 non-null   object \n",
      " 8   Medu        1044 non-null   object \n",
      " 9   Fedu        1044 non-null   object \n",
      " 10  Mjob        1044 non-null   object \n",
      " 11  Fjob        1044 non-null   object \n",
      " 12  reason      1044 non-null   object \n",
      " 13  guardian    1044 non-null   object \n",
      " 14  traveltime  1044 non-null   int64  \n",
      " 15  studytime   1044 non-null   int64  \n",
      " 16  failures    1044 non-null   int64  \n",
      " 17  schoolsup   1044 non-null   int32  \n",
      " 18  famsup      1044 non-null   int32  \n",
      " 19  paid        1044 non-null   int32  \n",
      " 20  activities  1044 non-null   int32  \n",
      " 21  nursery     1044 non-null   int32  \n",
      " 22  higher      1044 non-null   int32  \n",
      " 23  internet    1044 non-null   int32  \n",
      " 24  romantic    1044 non-null   int32  \n",
      " 25  famrel      1034 non-null   float64\n",
      " 26  freetime    1044 non-null   int64  \n",
      " 27  goout       1044 non-null   int64  \n",
      " 28  Dalc        1034 non-null   float64\n",
      " 29  Walc        1034 non-null   float64\n",
      " 30  health      1044 non-null   int64  \n",
      " 31  absences    1044 non-null   int64  \n",
      " 32  cheating    344 non-null    object \n",
      " 33  G1          1044 non-null   int64  \n",
      " 34  G2          1044 non-null   int64  \n",
      " 35  G3          1044 non-null   int64  \n",
      "dtypes: float64(3), int32(8), int64(12), object(13)\n",
      "memory usage: 261.1+ KB\n"
     ]
    }
   ],
   "source": [
    "data.info()"
   ]
  },
  {
   "cell_type": "markdown",
   "metadata": {},
   "source": [
    "Видим, что в графе cheating больше половины значений - пропущенные. Поэтому я решил убрать его совсем, так как \n",
    "он не несет почти никакой информации"
   ]
  },
  {
   "cell_type": "code",
   "execution_count": 6,
   "metadata": {},
   "outputs": [],
   "source": [
    "data = data.drop('cheating', 1)"
   ]
  },
  {
   "cell_type": "markdown",
   "metadata": {},
   "source": [
    "Видно,что в столбцах \"famrel\",\"Dalc\",'Walc'пропущенно по 10 значений. Учитывая, что это числовые признаки, их можно заменить на медианные значения своего признака, так как это не повлияет на общую картину данного наблюдения."
   ]
  },
  {
   "cell_type": "code",
   "execution_count": 7,
   "metadata": {},
   "outputs": [],
   "source": [
    "for i in [\"famrel\",\"Dalc\",'Walc']:\n",
    "    median = data[i].median()\n",
    "    data[i] = data[i].fillna(median)"
   ]
  },
  {
   "cell_type": "code",
   "execution_count": 15,
   "metadata": {},
   "outputs": [
    {
     "name": "stdout",
     "output_type": "stream",
     "text": [
      "<class 'pandas.core.frame.DataFrame'>\n",
      "RangeIndex: 1044 entries, 0 to 1043\n",
      "Data columns (total 35 columns):\n",
      " #   Column      Non-Null Count  Dtype  \n",
      "---  ------      --------------  -----  \n",
      " 0   ID          1044 non-null   int64  \n",
      " 1   Subject     1044 non-null   object \n",
      " 2   school      1044 non-null   object \n",
      " 3   sex         1044 non-null   object \n",
      " 4   age         1044 non-null   int64  \n",
      " 5   address     1044 non-null   object \n",
      " 6   famsize     1044 non-null   object \n",
      " 7   Pstatus     1044 non-null   object \n",
      " 8   Medu        1044 non-null   object \n",
      " 9   Fedu        1044 non-null   object \n",
      " 10  Mjob        1044 non-null   object \n",
      " 11  Fjob        1044 non-null   object \n",
      " 12  reason      1044 non-null   object \n",
      " 13  guardian    1044 non-null   object \n",
      " 14  traveltime  1044 non-null   int64  \n",
      " 15  studytime   1044 non-null   int64  \n",
      " 16  failures    1044 non-null   int64  \n",
      " 17  schoolsup   1044 non-null   int32  \n",
      " 18  famsup      1044 non-null   int32  \n",
      " 19  paid        1044 non-null   int32  \n",
      " 20  activities  1044 non-null   int32  \n",
      " 21  nursery     1044 non-null   int32  \n",
      " 22  higher      1044 non-null   int32  \n",
      " 23  internet    1044 non-null   int32  \n",
      " 24  romantic    1044 non-null   int32  \n",
      " 25  famrel      1044 non-null   float64\n",
      " 26  freetime    1044 non-null   int64  \n",
      " 27  goout       1044 non-null   int64  \n",
      " 28  Dalc        1044 non-null   float64\n",
      " 29  Walc        1044 non-null   float64\n",
      " 30  health      1044 non-null   int64  \n",
      " 31  absences    1044 non-null   int64  \n",
      " 32  G1          1044 non-null   int64  \n",
      " 33  G2          1044 non-null   int64  \n",
      " 34  G3          1044 non-null   int64  \n",
      "dtypes: float64(3), int32(8), int64(12), object(12)\n",
      "memory usage: 253.0+ KB\n"
     ]
    }
   ],
   "source": [
    "data.info()"
   ]
  },
  {
   "cell_type": "markdown",
   "metadata": {},
   "source": [
    "### Задание 3  \n",
    "  \n",
    "Проанализируйте данные на наличие выбросов.   \n",
    "Сколько наблюдений можно отнести к выбросам по каждому признаку? Сколько всего выбросов в данных?  \n",
    "  \n",
    "**Note:** Выбросы можно не удалять из данных. Это информацию можно учитывать в дальнейшем анализе и удалять выбросы при необходимости. "
   ]
  },
  {
   "cell_type": "markdown",
   "metadata": {},
   "source": [
    "#Проанализировав данные на опечатки в первом задании, становится очевидно, что в каткгориальных признаках отсутствуют выбросы.\n",
    "P.S Чтобы не выводить много графиков я удалил те, в которых на графике boxplot отсутствуют выбросы#"
   ]
  },
  {
   "cell_type": "markdown",
   "metadata": {},
   "source": [
    "2 выброса по возрасту - 22 года, таких наблюдений 2."
   ]
  },
  {
   "cell_type": "code",
   "execution_count": 13,
   "metadata": {},
   "outputs": [
    {
     "data": {
      "text/plain": [
       "<AxesSubplot:xlabel='age'>"
      ]
     },
     "execution_count": 13,
     "metadata": {},
     "output_type": "execute_result"
    },
    {
     "data": {
      "image/png": "[encoded data removed]",
      "text/plain": [
       "<Figure size 432x288 with 1 Axes>"
      ]
     },
     "metadata": {
      "needs_background": "light"
     },
     "output_type": "display_data"
    }
   ],
   "source": [
    "sns.boxplot(x = 'age', data = data)"
   ]
  },
  {
   "cell_type": "code",
   "execution_count": 16,
   "metadata": {},
   "outputs": [
    {
     "data": {
      "text/plain": [
       "16    281\n",
       "17    277\n",
       "18    222\n",
       "15    194\n",
       "19     56\n",
       "20      9\n",
       "21      3\n",
       "22      2\n",
       "Name: age, dtype: int64"
      ]
     },
     "execution_count": 16,
     "metadata": {},
     "output_type": "execute_result"
    }
   ],
   "source": [
    "data.age.value_counts()"
   ]
  },
  {
   "cell_type": "markdown",
   "metadata": {},
   "source": [
    "24 выброса с пунктом 4"
   ]
  },
  {
   "cell_type": "code",
   "execution_count": 92,
   "metadata": {},
   "outputs": [
    {
     "data": {
      "text/plain": [
       "<AxesSubplot:xlabel='traveltime'>"
      ]
     },
     "execution_count": 92,
     "metadata": {},
     "output_type": "execute_result"
    },
    {
     "data": {
      "image/png": "[encoded data removed]",
      "text/plain": [
       "<Figure size 432x288 with 1 Axes>"
      ]
     },
     "metadata": {
      "needs_background": "light"
     },
     "output_type": "display_data"
    }
   ],
   "source": [
    "sns.boxplot(x = 'traveltime', data = data)"
   ]
  },
  {
   "cell_type": "code",
   "execution_count": 17,
   "metadata": {},
   "outputs": [
    {
     "data": {
      "text/plain": [
       "1    623\n",
       "2    320\n",
       "3     77\n",
       "4     24\n",
       "Name: traveltime, dtype: int64"
      ]
     },
     "execution_count": 17,
     "metadata": {},
     "output_type": "execute_result"
    }
   ],
   "source": [
    "data.traveltime.value_counts()"
   ]
  },
  {
   "cell_type": "markdown",
   "metadata": {},
   "source": [
    "62 выброса по учебному времени"
   ]
  },
  {
   "cell_type": "code",
   "execution_count": 93,
   "metadata": {},
   "outputs": [
    {
     "data": {
      "text/plain": [
       "<AxesSubplot:xlabel='studytime'>"
      ]
     },
     "execution_count": 93,
     "metadata": {},
     "output_type": "execute_result"
    },
    {
     "data": {
      "image/png": "[encoded data removed]",
      "text/plain": [
       "<Figure size 432x288 with 1 Axes>"
      ]
     },
     "metadata": {
      "needs_background": "light"
     },
     "output_type": "display_data"
    }
   ],
   "source": [
    "sns.boxplot(x = 'studytime', data = data)"
   ]
  },
  {
   "cell_type": "code",
   "execution_count": 18,
   "metadata": {},
   "outputs": [
    {
     "data": {
      "text/plain": [
       "2    503\n",
       "1    317\n",
       "3    162\n",
       "4     62\n",
       "Name: studytime, dtype: int64"
      ]
     },
     "execution_count": 18,
     "metadata": {},
     "output_type": "execute_result"
    }
   ],
   "source": [
    "data.studytime.value_counts()"
   ]
  },
  {
   "cell_type": "markdown",
   "metadata": {},
   "source": [
    "183 выбросов по заваленным экзаменам, у большего числа учеников 0 завалов, поэтому остальные значение попадают под выбросы "
   ]
  },
  {
   "cell_type": "code",
   "execution_count": 94,
   "metadata": {},
   "outputs": [
    {
     "data": {
      "text/plain": [
       "<AxesSubplot:xlabel='failures'>"
      ]
     },
     "execution_count": 94,
     "metadata": {},
     "output_type": "execute_result"
    },
    {
     "data": {
      "image/png": "[encoded data removed]",
      "text/plain": [
       "<Figure size 432x288 with 1 Axes>"
      ]
     },
     "metadata": {
      "needs_background": "light"
     },
     "output_type": "display_data"
    }
   ],
   "source": [
    "sns.boxplot(x = 'failures', data = data)"
   ]
  },
  {
   "cell_type": "code",
   "execution_count": 20,
   "metadata": {},
   "outputs": [
    {
     "data": {
      "text/plain": [
       "0    861\n",
       "1    120\n",
       "2     33\n",
       "3     30\n",
       "Name: failures, dtype: int64"
      ]
     },
     "execution_count": 20,
     "metadata": {},
     "output_type": "execute_result"
    }
   ],
   "source": [
    "data.failures.value_counts()"
   ]
  },
  {
   "cell_type": "markdown",
   "metadata": {},
   "source": [
    "76 выбросов со значениями 1 и 2"
   ]
  },
  {
   "cell_type": "code",
   "execution_count": 95,
   "metadata": {},
   "outputs": [
    {
     "data": {
      "text/plain": [
       "<AxesSubplot:xlabel='famrel'>"
      ]
     },
     "execution_count": 95,
     "metadata": {},
     "output_type": "execute_result"
    },
    {
     "data": {
      "image/png": "[encoded data removed]",
      "text/plain": [
       "<Figure size 432x288 with 1 Axes>"
      ]
     },
     "metadata": {
      "needs_background": "light"
     },
     "output_type": "display_data"
    }
   ],
   "source": [
    "sns.boxplot(x = 'famrel', data = data)"
   ]
  },
  {
   "cell_type": "code",
   "execution_count": 21,
   "metadata": {},
   "outputs": [
    {
     "data": {
      "text/plain": [
       "4.0    518\n",
       "5.0    283\n",
       "3.0    167\n",
       "2.0     46\n",
       "1.0     30\n",
       "Name: famrel, dtype: int64"
      ]
     },
     "execution_count": 21,
     "metadata": {},
     "output_type": "execute_result"
    }
   ],
   "source": [
    "data.famrel.value_counts()"
   ]
  },
  {
   "cell_type": "markdown",
   "metadata": {},
   "source": [
    "64 выброса с показателем 1"
   ]
  },
  {
   "cell_type": "code",
   "execution_count": 96,
   "metadata": {},
   "outputs": [
    {
     "data": {
      "text/plain": [
       "<AxesSubplot:xlabel='freetime'>"
      ]
     },
     "execution_count": 96,
     "metadata": {},
     "output_type": "execute_result"
    },
    {
     "data": {
      "image/png": "[encoded data removed]",
      "text/plain": [
       "<Figure size 432x288 with 1 Axes>"
      ]
     },
     "metadata": {
      "needs_background": "light"
     },
     "output_type": "display_data"
    }
   ],
   "source": [
    "sns.boxplot(x = 'freetime', data = data)"
   ]
  },
  {
   "cell_type": "code",
   "execution_count": 22,
   "metadata": {},
   "outputs": [
    {
     "data": {
      "text/plain": [
       "3    408\n",
       "4    293\n",
       "2    171\n",
       "5    108\n",
       "1     64\n",
       "Name: freetime, dtype: int64"
      ]
     },
     "execution_count": 22,
     "metadata": {},
     "output_type": "execute_result"
    }
   ],
   "source": [
    "data.freetime.value_counts()"
   ]
  },
  {
   "cell_type": "markdown",
   "metadata": {},
   "source": [
    "52 выброса с пунктами 4 и 5"
   ]
  },
  {
   "cell_type": "code",
   "execution_count": 99,
   "metadata": {},
   "outputs": [
    {
     "data": {
      "text/plain": [
       "<AxesSubplot:xlabel='Dalc'>"
      ]
     },
     "execution_count": 99,
     "metadata": {},
     "output_type": "execute_result"
    },
    {
     "data": {
      "image/png": "[encoded data removed]",
      "text/plain": [
       "<Figure size 432x288 with 1 Axes>"
      ]
     },
     "metadata": {
      "needs_background": "light"
     },
     "output_type": "display_data"
    }
   ],
   "source": [
    "sns.boxplot(x = 'Dalc', data = data)"
   ]
  },
  {
   "cell_type": "code",
   "execution_count": 23,
   "metadata": {},
   "outputs": [
    {
     "data": {
      "text/plain": [
       "1.0    729\n",
       "2.0    194\n",
       "3.0     69\n",
       "5.0     26\n",
       "4.0     26\n",
       "Name: Dalc, dtype: int64"
      ]
     },
     "execution_count": 23,
     "metadata": {},
     "output_type": "execute_result"
    }
   ],
   "source": [
    "data.Dalc.value_counts()"
   ]
  },
  {
   "cell_type": "markdown",
   "metadata": {},
   "source": [
    "49 выбросов от 16 пропусков и более"
   ]
  },
  {
   "cell_type": "code",
   "execution_count": 102,
   "metadata": {},
   "outputs": [
    {
     "data": {
      "text/plain": [
       "<AxesSubplot:xlabel='absences'>"
      ]
     },
     "execution_count": 102,
     "metadata": {},
     "output_type": "execute_result"
    },
    {
     "data": {
      "image/png": "[encoded data removed]",
      "text/plain": [
       "<Figure size 432x288 with 1 Axes>"
      ]
     },
     "metadata": {
      "needs_background": "light"
     },
     "output_type": "display_data"
    }
   ],
   "source": [
    "sns.boxplot(x = 'absences', data = data)"
   ]
  },
  {
   "cell_type": "code",
   "execution_count": 32,
   "metadata": {},
   "outputs": [
    {
     "data": {
      "text/plain": [
       "0     359\n",
       "1      15\n",
       "2     175\n",
       "3      15\n",
       "4     146\n",
       "5      17\n",
       "6      80\n",
       "7      10\n",
       "8      64\n",
       "9      10\n",
       "10     38\n",
       "11      8\n",
       "12     24\n",
       "13      4\n",
       "14     20\n",
       "15      5\n",
       "16     17\n",
       "17      1\n",
       "18      8\n",
       "19      1\n",
       "20      4\n",
       "21      3\n",
       "22      5\n",
       "23      1\n",
       "24      2\n",
       "25      1\n",
       "26      2\n",
       "28      1\n",
       "30      2\n",
       "32      1\n",
       "38      1\n",
       "40      1\n",
       "54      1\n",
       "56      1\n",
       "75      1\n",
       "Name: absences, dtype: int64"
      ]
     },
     "execution_count": 32,
     "metadata": {},
     "output_type": "execute_result"
    }
   ],
   "source": [
    "data.absences.value_counts().sort_index(ascending=True)"
   ]
  },
  {
   "cell_type": "markdown",
   "metadata": {},
   "source": [
    "1 выброс с оценкой 0"
   ]
  },
  {
   "cell_type": "code",
   "execution_count": 103,
   "metadata": {},
   "outputs": [
    {
     "data": {
      "text/plain": [
       "<AxesSubplot:xlabel='G1'>"
      ]
     },
     "execution_count": 103,
     "metadata": {},
     "output_type": "execute_result"
    },
    {
     "data": {
      "image/png": "[encoded data removed]",
      "text/plain": [
       "<Figure size 432x288 with 1 Axes>"
      ]
     },
     "metadata": {
      "needs_background": "light"
     },
     "output_type": "display_data"
    }
   ],
   "source": [
    "sns.boxplot(x = 'G1', data = data)"
   ]
  },
  {
   "cell_type": "code",
   "execution_count": 33,
   "metadata": {},
   "outputs": [
    {
     "data": {
      "text/plain": [
       "0       1\n",
       "3       1\n",
       "4       3\n",
       "5      12\n",
       "6      33\n",
       "7      70\n",
       "8      83\n",
       "9      96\n",
       "10    146\n",
       "11    130\n",
       "12    117\n",
       "13    105\n",
       "14    101\n",
       "15     59\n",
       "16     44\n",
       "17     24\n",
       "18     15\n",
       "19      4\n",
       "Name: G1, dtype: int64"
      ]
     },
     "execution_count": 33,
     "metadata": {},
     "output_type": "execute_result"
    }
   ],
   "source": [
    "data.G1.value_counts().sort_index(ascending=True)"
   ]
  },
  {
   "cell_type": "markdown",
   "metadata": {},
   "source": [
    "20 выбросов с оценкой 0"
   ]
  },
  {
   "cell_type": "code",
   "execution_count": 104,
   "metadata": {},
   "outputs": [
    {
     "data": {
      "text/plain": [
       "<AxesSubplot:xlabel='G2'>"
      ]
     },
     "execution_count": 104,
     "metadata": {},
     "output_type": "execute_result"
    },
    {
     "data": {
      "image/png": "[encoded data removed]",
      "text/plain": [
       "<Figure size 432x288 with 1 Axes>"
      ]
     },
     "metadata": {
      "needs_background": "light"
     },
     "output_type": "display_data"
    }
   ],
   "source": [
    "sns.boxplot(x = 'G2', data = data)"
   ]
  },
  {
   "cell_type": "code",
   "execution_count": 34,
   "metadata": {},
   "outputs": [
    {
     "data": {
      "text/plain": [
       "0      20\n",
       "4       1\n",
       "5      18\n",
       "6      21\n",
       "7      37\n",
       "8      72\n",
       "9     122\n",
       "10    129\n",
       "11    138\n",
       "12    127\n",
       "13    117\n",
       "14     77\n",
       "15     72\n",
       "16     38\n",
       "17     25\n",
       "18     26\n",
       "19      4\n",
       "Name: G2, dtype: int64"
      ]
     },
     "execution_count": 34,
     "metadata": {},
     "output_type": "execute_result"
    }
   ],
   "source": [
    "data.G2.value_counts().sort_index(ascending=True)"
   ]
  },
  {
   "cell_type": "markdown",
   "metadata": {},
   "source": [
    "54 выброса с оценками 0 и 1"
   ]
  },
  {
   "cell_type": "code",
   "execution_count": 105,
   "metadata": {},
   "outputs": [
    {
     "data": {
      "text/plain": [
       "<AxesSubplot:xlabel='G3'>"
      ]
     },
     "execution_count": 105,
     "metadata": {},
     "output_type": "execute_result"
    },
    {
     "data": {
      "image/png": "[encoded data removed]",
      "text/plain": [
       "<Figure size 432x288 with 1 Axes>"
      ]
     },
     "metadata": {
      "needs_background": "light"
     },
     "output_type": "display_data"
    }
   ],
   "source": [
    "sns.boxplot(x = 'G3', data = data)"
   ]
  },
  {
   "cell_type": "code",
   "execution_count": 35,
   "metadata": {},
   "outputs": [
    {
     "data": {
      "text/plain": [
       "0      53\n",
       "1       1\n",
       "4       1\n",
       "5       8\n",
       "6      18\n",
       "7      19\n",
       "8      67\n",
       "9      63\n",
       "10    153\n",
       "11    151\n",
       "12    103\n",
       "13    113\n",
       "14     90\n",
       "15     82\n",
       "16     52\n",
       "17     35\n",
       "18     27\n",
       "19      7\n",
       "20      1\n",
       "Name: G3, dtype: int64"
      ]
     },
     "execution_count": 35,
     "metadata": {},
     "output_type": "execute_result"
    }
   ],
   "source": [
    "data.G3.value_counts().sort_index(ascending=True)"
   ]
  },
  {
   "cell_type": "markdown",
   "metadata": {},
   "source": [
    "Просуммировав выбросы по признакам получается число 587"
   ]
  },
  {
   "cell_type": "markdown",
   "metadata": {},
   "source": [
    "### Задание 4 \n",
    "  \n",
    "* Посчитайте описательные статистики для числовых и для категориальных признаков. \n",
    "* Сколько студентов посещают каждую из школ?  \n",
    "* Сколько студентов посещают математику, сколько - португальский?  \n",
    "* Студенты какого курса чаще заваливают экзамены?  \n",
    "* Сколько в среднем времени в неделю уходит на учебу по каждому предмету?  \n",
    "* На что чаще обращают внимание при выборе школы?"
   ]
  },
  {
   "cell_type": "markdown",
   "metadata": {},
   "source": [
    "числовые признаки"
   ]
  },
  {
   "cell_type": "code",
   "execution_count": 106,
   "metadata": {},
   "outputs": [
    {
     "data": {
      "text/html": [
       "<div>\n",
       "<style scoped>\n",
       "    .dataframe tbody tr th:only-of-type {\n",
       "        vertical-align: middle;\n",
       "    }\n",
       "\n",
       "    .dataframe tbody tr th {\n",
       "        vertical-align: top;\n",
       "    }\n",
       "\n",
       "    .dataframe thead th {\n",
       "        text-align: right;\n",
       "    }\n",
       "</style>\n",
       "<table border=\"1\" class=\"dataframe\">\n",
       "  <thead>\n",
       "    <tr style=\"text-align: right;\">\n",
       "      <th></th>\n",
       "      <th>ID</th>\n",
       "      <th>age</th>\n",
       "      <th>traveltime</th>\n",
       "      <th>studytime</th>\n",
       "      <th>failures</th>\n",
       "      <th>schoolsup</th>\n",
       "      <th>famsup</th>\n",
       "      <th>paid</th>\n",
       "      <th>activities</th>\n",
       "      <th>nursery</th>\n",
       "      <th>higher</th>\n",
       "      <th>internet</th>\n",
       "      <th>romantic</th>\n",
       "      <th>famrel</th>\n",
       "      <th>freetime</th>\n",
       "      <th>goout</th>\n",
       "      <th>Dalc</th>\n",
       "      <th>Walc</th>\n",
       "      <th>health</th>\n",
       "      <th>absences</th>\n",
       "      <th>G1</th>\n",
       "      <th>G2</th>\n",
       "      <th>G3</th>\n",
       "    </tr>\n",
       "  </thead>\n",
       "  <tbody>\n",
       "    <tr>\n",
       "      <th>count</th>\n",
       "      <td>1044.000000</td>\n",
       "      <td>1044.000000</td>\n",
       "      <td>1044.000000</td>\n",
       "      <td>1044.000000</td>\n",
       "      <td>1044.000000</td>\n",
       "      <td>1044.0</td>\n",
       "      <td>1044.000000</td>\n",
       "      <td>1044.000000</td>\n",
       "      <td>1044.000000</td>\n",
       "      <td>1044.000000</td>\n",
       "      <td>1044.000000</td>\n",
       "      <td>1044.000000</td>\n",
       "      <td>1044.000000</td>\n",
       "      <td>1044.000000</td>\n",
       "      <td>1044.000000</td>\n",
       "      <td>1044.000000</td>\n",
       "      <td>1044.000000</td>\n",
       "      <td>1044.000000</td>\n",
       "      <td>1044.000000</td>\n",
       "      <td>1044.000000</td>\n",
       "      <td>1044.000000</td>\n",
       "      <td>1044.000000</td>\n",
       "      <td>1044.000000</td>\n",
       "    </tr>\n",
       "    <tr>\n",
       "      <th>mean</th>\n",
       "      <td>547057.190613</td>\n",
       "      <td>16.726054</td>\n",
       "      <td>1.522989</td>\n",
       "      <td>1.970307</td>\n",
       "      <td>0.264368</td>\n",
       "      <td>1.0</td>\n",
       "      <td>0.613027</td>\n",
       "      <td>0.210728</td>\n",
       "      <td>0.494253</td>\n",
       "      <td>0.799808</td>\n",
       "      <td>0.914751</td>\n",
       "      <td>0.792146</td>\n",
       "      <td>0.363985</td>\n",
       "      <td>3.936782</td>\n",
       "      <td>3.201149</td>\n",
       "      <td>3.156130</td>\n",
       "      <td>1.492337</td>\n",
       "      <td>2.288314</td>\n",
       "      <td>3.543103</td>\n",
       "      <td>4.434866</td>\n",
       "      <td>11.213602</td>\n",
       "      <td>11.246169</td>\n",
       "      <td>11.341954</td>\n",
       "    </tr>\n",
       "    <tr>\n",
       "      <th>std</th>\n",
       "      <td>263827.330362</td>\n",
       "      <td>1.239975</td>\n",
       "      <td>0.731727</td>\n",
       "      <td>0.834353</td>\n",
       "      <td>0.656142</td>\n",
       "      <td>0.0</td>\n",
       "      <td>0.487291</td>\n",
       "      <td>0.408021</td>\n",
       "      <td>0.500207</td>\n",
       "      <td>0.400335</td>\n",
       "      <td>0.279386</td>\n",
       "      <td>0.405967</td>\n",
       "      <td>0.481375</td>\n",
       "      <td>0.928833</td>\n",
       "      <td>1.031507</td>\n",
       "      <td>1.152575</td>\n",
       "      <td>0.911700</td>\n",
       "      <td>1.282008</td>\n",
       "      <td>1.424703</td>\n",
       "      <td>6.210017</td>\n",
       "      <td>2.983394</td>\n",
       "      <td>3.285071</td>\n",
       "      <td>3.864796</td>\n",
       "    </tr>\n",
       "    <tr>\n",
       "      <th>min</th>\n",
       "      <td>100097.000000</td>\n",
       "      <td>15.000000</td>\n",
       "      <td>1.000000</td>\n",
       "      <td>1.000000</td>\n",
       "      <td>0.000000</td>\n",
       "      <td>1.0</td>\n",
       "      <td>0.000000</td>\n",
       "      <td>0.000000</td>\n",
       "      <td>0.000000</td>\n",
       "      <td>0.000000</td>\n",
       "      <td>0.000000</td>\n",
       "      <td>0.000000</td>\n",
       "      <td>0.000000</td>\n",
       "      <td>1.000000</td>\n",
       "      <td>1.000000</td>\n",
       "      <td>1.000000</td>\n",
       "      <td>1.000000</td>\n",
       "      <td>1.000000</td>\n",
       "      <td>1.000000</td>\n",
       "      <td>0.000000</td>\n",
       "      <td>0.000000</td>\n",
       "      <td>0.000000</td>\n",
       "      <td>0.000000</td>\n",
       "    </tr>\n",
       "    <tr>\n",
       "      <th>25%</th>\n",
       "      <td>324017.500000</td>\n",
       "      <td>16.000000</td>\n",
       "      <td>1.000000</td>\n",
       "      <td>1.000000</td>\n",
       "      <td>0.000000</td>\n",
       "      <td>1.0</td>\n",
       "      <td>0.000000</td>\n",
       "      <td>0.000000</td>\n",
       "      <td>0.000000</td>\n",
       "      <td>1.000000</td>\n",
       "      <td>1.000000</td>\n",
       "      <td>1.000000</td>\n",
       "      <td>0.000000</td>\n",
       "      <td>4.000000</td>\n",
       "      <td>3.000000</td>\n",
       "      <td>2.000000</td>\n",
       "      <td>1.000000</td>\n",
       "      <td>1.000000</td>\n",
       "      <td>3.000000</td>\n",
       "      <td>0.000000</td>\n",
       "      <td>9.000000</td>\n",
       "      <td>9.000000</td>\n",
       "      <td>10.000000</td>\n",
       "    </tr>\n",
       "    <tr>\n",
       "      <th>50%</th>\n",
       "      <td>554339.500000</td>\n",
       "      <td>17.000000</td>\n",
       "      <td>1.000000</td>\n",
       "      <td>2.000000</td>\n",
       "      <td>0.000000</td>\n",
       "      <td>1.0</td>\n",
       "      <td>1.000000</td>\n",
       "      <td>0.000000</td>\n",
       "      <td>0.000000</td>\n",
       "      <td>1.000000</td>\n",
       "      <td>1.000000</td>\n",
       "      <td>1.000000</td>\n",
       "      <td>0.000000</td>\n",
       "      <td>4.000000</td>\n",
       "      <td>3.000000</td>\n",
       "      <td>3.000000</td>\n",
       "      <td>1.000000</td>\n",
       "      <td>2.000000</td>\n",
       "      <td>4.000000</td>\n",
       "      <td>2.000000</td>\n",
       "      <td>11.000000</td>\n",
       "      <td>11.000000</td>\n",
       "      <td>11.000000</td>\n",
       "    </tr>\n",
       "    <tr>\n",
       "      <th>75%</th>\n",
       "      <td>774486.000000</td>\n",
       "      <td>18.000000</td>\n",
       "      <td>2.000000</td>\n",
       "      <td>2.000000</td>\n",
       "      <td>0.000000</td>\n",
       "      <td>1.0</td>\n",
       "      <td>1.000000</td>\n",
       "      <td>0.000000</td>\n",
       "      <td>1.000000</td>\n",
       "      <td>1.000000</td>\n",
       "      <td>1.000000</td>\n",
       "      <td>1.000000</td>\n",
       "      <td>1.000000</td>\n",
       "      <td>5.000000</td>\n",
       "      <td>4.000000</td>\n",
       "      <td>4.000000</td>\n",
       "      <td>2.000000</td>\n",
       "      <td>3.000000</td>\n",
       "      <td>5.000000</td>\n",
       "      <td>6.000000</td>\n",
       "      <td>13.000000</td>\n",
       "      <td>13.000000</td>\n",
       "      <td>14.000000</td>\n",
       "    </tr>\n",
       "    <tr>\n",
       "      <th>max</th>\n",
       "      <td>999194.000000</td>\n",
       "      <td>22.000000</td>\n",
       "      <td>4.000000</td>\n",
       "      <td>4.000000</td>\n",
       "      <td>3.000000</td>\n",
       "      <td>1.0</td>\n",
       "      <td>1.000000</td>\n",
       "      <td>1.000000</td>\n",
       "      <td>1.000000</td>\n",
       "      <td>1.000000</td>\n",
       "      <td>1.000000</td>\n",
       "      <td>1.000000</td>\n",
       "      <td>1.000000</td>\n",
       "      <td>5.000000</td>\n",
       "      <td>5.000000</td>\n",
       "      <td>5.000000</td>\n",
       "      <td>5.000000</td>\n",
       "      <td>5.000000</td>\n",
       "      <td>5.000000</td>\n",
       "      <td>75.000000</td>\n",
       "      <td>19.000000</td>\n",
       "      <td>19.000000</td>\n",
       "      <td>20.000000</td>\n",
       "    </tr>\n",
       "  </tbody>\n",
       "</table>\n",
       "</div>"
      ],
      "text/plain": [
       "                  ID          age   traveltime    studytime     failures  \\\n",
       "count    1044.000000  1044.000000  1044.000000  1044.000000  1044.000000   \n",
       "mean   547057.190613    16.726054     1.522989     1.970307     0.264368   \n",
       "std    263827.330362     1.239975     0.731727     0.834353     0.656142   \n",
       "min    100097.000000    15.000000     1.000000     1.000000     0.000000   \n",
       "25%    324017.500000    16.000000     1.000000     1.000000     0.000000   \n",
       "50%    554339.500000    17.000000     1.000000     2.000000     0.000000   \n",
       "75%    774486.000000    18.000000     2.000000     2.000000     0.000000   \n",
       "max    999194.000000    22.000000     4.000000     4.000000     3.000000   \n",
       "\n",
       "       schoolsup       famsup         paid   activities      nursery  \\\n",
       "count     1044.0  1044.000000  1044.000000  1044.000000  1044.000000   \n",
       "mean         1.0     0.613027     0.210728     0.494253     0.799808   \n",
       "std          0.0     0.487291     0.408021     0.500207     0.400335   \n",
       "min          1.0     0.000000     0.000000     0.000000     0.000000   \n",
       "25%          1.0     0.000000     0.000000     0.000000     1.000000   \n",
       "50%          1.0     1.000000     0.000000     0.000000     1.000000   \n",
       "75%          1.0     1.000000     0.000000     1.000000     1.000000   \n",
       "max          1.0     1.000000     1.000000     1.000000     1.000000   \n",
       "\n",
       "            higher     internet     romantic       famrel     freetime  \\\n",
       "count  1044.000000  1044.000000  1044.000000  1044.000000  1044.000000   \n",
       "mean      0.914751     0.792146     0.363985     3.936782     3.201149   \n",
       "std       0.279386     0.405967     0.481375     0.928833     1.031507   \n",
       "min       0.000000     0.000000     0.000000     1.000000     1.000000   \n",
       "25%       1.000000     1.000000     0.000000     4.000000     3.000000   \n",
       "50%       1.000000     1.000000     0.000000     4.000000     3.000000   \n",
       "75%       1.000000     1.000000     1.000000     5.000000     4.000000   \n",
       "max       1.000000     1.000000     1.000000     5.000000     5.000000   \n",
       "\n",
       "             goout         Dalc         Walc       health     absences  \\\n",
       "count  1044.000000  1044.000000  1044.000000  1044.000000  1044.000000   \n",
       "mean      3.156130     1.492337     2.288314     3.543103     4.434866   \n",
       "std       1.152575     0.911700     1.282008     1.424703     6.210017   \n",
       "min       1.000000     1.000000     1.000000     1.000000     0.000000   \n",
       "25%       2.000000     1.000000     1.000000     3.000000     0.000000   \n",
       "50%       3.000000     1.000000     2.000000     4.000000     2.000000   \n",
       "75%       4.000000     2.000000     3.000000     5.000000     6.000000   \n",
       "max       5.000000     5.000000     5.000000     5.000000    75.000000   \n",
       "\n",
       "                G1           G2           G3  \n",
       "count  1044.000000  1044.000000  1044.000000  \n",
       "mean     11.213602    11.246169    11.341954  \n",
       "std       2.983394     3.285071     3.864796  \n",
       "min       0.000000     0.000000     0.000000  \n",
       "25%       9.000000     9.000000    10.000000  \n",
       "50%      11.000000    11.000000    11.000000  \n",
       "75%      13.000000    13.000000    14.000000  \n",
       "max      19.000000    19.000000    20.000000  "
      ]
     },
     "execution_count": 106,
     "metadata": {},
     "output_type": "execute_result"
    }
   ],
   "source": [
    "data.describe()"
   ]
  },
  {
   "cell_type": "markdown",
   "metadata": {},
   "source": [
    "категориальные:"
   ]
  },
  {
   "cell_type": "code",
   "execution_count": 107,
   "metadata": {},
   "outputs": [
    {
     "data": {
      "text/html": [
       "<div>\n",
       "<style scoped>\n",
       "    .dataframe tbody tr th:only-of-type {\n",
       "        vertical-align: middle;\n",
       "    }\n",
       "\n",
       "    .dataframe tbody tr th {\n",
       "        vertical-align: top;\n",
       "    }\n",
       "\n",
       "    .dataframe thead th {\n",
       "        text-align: right;\n",
       "    }\n",
       "</style>\n",
       "<table border=\"1\" class=\"dataframe\">\n",
       "  <thead>\n",
       "    <tr style=\"text-align: right;\">\n",
       "      <th></th>\n",
       "      <th>Subject</th>\n",
       "      <th>school</th>\n",
       "      <th>sex</th>\n",
       "      <th>address</th>\n",
       "      <th>famsize</th>\n",
       "      <th>Pstatus</th>\n",
       "      <th>Medu</th>\n",
       "      <th>Fedu</th>\n",
       "      <th>Mjob</th>\n",
       "      <th>Fjob</th>\n",
       "      <th>reason</th>\n",
       "      <th>guardian</th>\n",
       "    </tr>\n",
       "  </thead>\n",
       "  <tbody>\n",
       "    <tr>\n",
       "      <th>count</th>\n",
       "      <td>1044</td>\n",
       "      <td>1044</td>\n",
       "      <td>1044</td>\n",
       "      <td>1044</td>\n",
       "      <td>1044</td>\n",
       "      <td>1044</td>\n",
       "      <td>1044</td>\n",
       "      <td>1044</td>\n",
       "      <td>1044</td>\n",
       "      <td>1044</td>\n",
       "      <td>1044</td>\n",
       "      <td>1044</td>\n",
       "    </tr>\n",
       "    <tr>\n",
       "      <th>unique</th>\n",
       "      <td>2</td>\n",
       "      <td>2</td>\n",
       "      <td>2</td>\n",
       "      <td>2</td>\n",
       "      <td>2</td>\n",
       "      <td>2</td>\n",
       "      <td>5</td>\n",
       "      <td>5</td>\n",
       "      <td>5</td>\n",
       "      <td>5</td>\n",
       "      <td>4</td>\n",
       "      <td>3</td>\n",
       "    </tr>\n",
       "    <tr>\n",
       "      <th>top</th>\n",
       "      <td>Por</td>\n",
       "      <td>GP</td>\n",
       "      <td>F</td>\n",
       "      <td>U</td>\n",
       "      <td>GT3</td>\n",
       "      <td>T</td>\n",
       "      <td>4</td>\n",
       "      <td>2</td>\n",
       "      <td>other</td>\n",
       "      <td>other</td>\n",
       "      <td>course</td>\n",
       "      <td>mother</td>\n",
       "    </tr>\n",
       "    <tr>\n",
       "      <th>freq</th>\n",
       "      <td>649</td>\n",
       "      <td>772</td>\n",
       "      <td>591</td>\n",
       "      <td>759</td>\n",
       "      <td>738</td>\n",
       "      <td>923</td>\n",
       "      <td>306</td>\n",
       "      <td>324</td>\n",
       "      <td>399</td>\n",
       "      <td>584</td>\n",
       "      <td>430</td>\n",
       "      <td>728</td>\n",
       "    </tr>\n",
       "  </tbody>\n",
       "</table>\n",
       "</div>"
      ],
      "text/plain": [
       "       Subject school   sex address famsize Pstatus  Medu  Fedu   Mjob   Fjob  \\\n",
       "count     1044   1044  1044    1044    1044    1044  1044  1044   1044   1044   \n",
       "unique       2      2     2       2       2       2     5     5      5      5   \n",
       "top        Por     GP     F       U     GT3       T     4     2  other  other   \n",
       "freq       649    772   591     759     738     923   306   324    399    584   \n",
       "\n",
       "        reason guardian  \n",
       "count     1044     1044  \n",
       "unique       4        3  \n",
       "top     course   mother  \n",
       "freq       430      728  "
      ]
     },
     "execution_count": 107,
     "metadata": {},
     "output_type": "execute_result"
    }
   ],
   "source": [
    "data.describe(include=['object'])"
   ]
  },
  {
   "cell_type": "markdown",
   "metadata": {},
   "source": [
    "На первую школу заведено 772 записи, на вторую - 272"
   ]
  },
  {
   "cell_type": "code",
   "execution_count": 38,
   "metadata": {},
   "outputs": [
    {
     "data": {
      "text/plain": [
       "GP    772\n",
       "MS    272\n",
       "Name: school, dtype: int64"
      ]
     },
     "execution_count": 38,
     "metadata": {},
     "output_type": "execute_result"
    }
   ],
   "source": [
    "data.school.value_counts()"
   ]
  },
  {
   "cell_type": "markdown",
   "metadata": {},
   "source": [
    "Сколько студентов посещают математику, сколько - португальский?"
   ]
  },
  {
   "cell_type": "code",
   "execution_count": 37,
   "metadata": {},
   "outputs": [
    {
     "data": {
      "text/plain": [
       "Por     649\n",
       "Math    395\n",
       "Name: Subject, dtype: int64"
      ]
     },
     "execution_count": 37,
     "metadata": {},
     "output_type": "execute_result"
    }
   ],
   "source": [
    "data.Subject.value_counts()"
   ]
  },
  {
   "cell_type": "markdown",
   "metadata": {},
   "source": [
    "Студенты какого курса чаще заваливают экзамены? - Сутденты курса Португальского языка"
   ]
  },
  {
   "cell_type": "code",
   "execution_count": 36,
   "metadata": {},
   "outputs": [
    {
     "data": {
      "text/plain": [
       "Subject\n",
       "Math    132\n",
       "Por     144\n",
       "Name: failures, dtype: int64"
      ]
     },
     "execution_count": 36,
     "metadata": {},
     "output_type": "execute_result"
    }
   ],
   "source": [
    "data.groupby(\"Subject\").failures.sum()"
   ]
  },
  {
   "cell_type": "markdown",
   "metadata": {},
   "source": [
    "Сколько в среднем времени в неделю уходит на учебу по каждому предмету? - На математику - 2 часа, на португальский - 1.9"
   ]
  },
  {
   "cell_type": "code",
   "execution_count": 111,
   "metadata": {},
   "outputs": [
    {
     "data": {
      "text/plain": [
       "Subject\n",
       "Math    2.035443\n",
       "Por     1.930663\n",
       "Name: studytime, dtype: float64"
      ]
     },
     "execution_count": 111,
     "metadata": {},
     "output_type": "execute_result"
    }
   ],
   "source": [
    "data.groupby(\"Subject\").studytime.mean()"
   ]
  },
  {
   "cell_type": "markdown",
   "metadata": {},
   "source": [
    "На что чаще обращают внимание при выборе школы? Самая популярная причина выбора школы - читаемые там курсы."
   ]
  },
  {
   "cell_type": "code",
   "execution_count": 112,
   "metadata": {},
   "outputs": [
    {
     "data": {
      "text/plain": [
       "course        430\n",
       "home          258\n",
       "reputation    248\n",
       "other         108\n",
       "Name: reason, dtype: int64"
      ]
     },
     "execution_count": 112,
     "metadata": {},
     "output_type": "execute_result"
    }
   ],
   "source": [
    "data.reason.value_counts()"
   ]
  },
  {
   "cell_type": "markdown",
   "metadata": {},
   "source": [
    "### Задание 5  \n",
    "  \n",
    "Оцените распределение оценок (отдельно для `G1`, `G2` и `G3`). Сравните распределения для разных предметов - математики и португальского языка. Сделайте выводы.  \n",
    "  \n",
    "**Tip:** Для выполнения задания пригодятся графики плотности, гистограммы и боксплоты."
   ]
  },
  {
   "cell_type": "markdown",
   "metadata": {},
   "source": [
    "Распределение оценок G1:"
   ]
  },
  {
   "cell_type": "code",
   "execution_count": 66,
   "metadata": {},
   "outputs": [
    {
     "data": {
      "text/plain": [
       "Text(0.5, 1.0, 'Grades')"
      ]
     },
     "execution_count": 66,
     "metadata": {},
     "output_type": "execute_result"
    },
    {
     "data": {
      "image/png": "[encoded data removed]",
      "text/plain": [
       "<Figure size 432x288 with 1 Axes>"
      ]
     },
     "metadata": {
      "needs_background": "light"
     },
     "output_type": "display_data"
    }
   ],
   "source": [
    "import matplotlib.pyplot as plt\n",
    "plt.hist(data['G1'], bins = 20)\n",
    "plt.xlabel('Grade1')\n",
    "plt.ylabel('Count')\n",
    "plt.title('Grades')"
   ]
  },
  {
   "cell_type": "markdown",
   "metadata": {},
   "source": [
    "Распределение оценок G2:"
   ]
  },
  {
   "cell_type": "code",
   "execution_count": 67,
   "metadata": {},
   "outputs": [
    {
     "data": {
      "text/plain": [
       "Text(0.5, 1.0, 'Grades')"
      ]
     },
     "execution_count": 67,
     "metadata": {},
     "output_type": "execute_result"
    },
    {
     "data": {
      "image/png": "[encoded data removed]",
      "text/plain": [
       "<Figure size 432x288 with 1 Axes>"
      ]
     },
     "metadata": {
      "needs_background": "light"
     },
     "output_type": "display_data"
    }
   ],
   "source": [
    "import matplotlib.pyplot as plt\n",
    "plt.hist(data['G2'], bins = 20)\n",
    "plt.xlabel('Grade2')\n",
    "plt.ylabel('Count')\n",
    "plt.title('Grades')"
   ]
  },
  {
   "cell_type": "markdown",
   "metadata": {},
   "source": [
    "Распределение оценок G3:"
   ]
  },
  {
   "cell_type": "code",
   "execution_count": 68,
   "metadata": {},
   "outputs": [
    {
     "data": {
      "text/plain": [
       "Text(0.5, 1.0, 'Grades')"
      ]
     },
     "execution_count": 68,
     "metadata": {},
     "output_type": "execute_result"
    },
    {
     "data": {
      "image/png": "[encoded data removed]",
      "text/plain": [
       "<Figure size 432x288 with 1 Axes>"
      ]
     },
     "metadata": {
      "needs_background": "light"
     },
     "output_type": "display_data"
    }
   ],
   "source": [
    "plt.hist(data['G3'], bins = 20)\n",
    "plt.xlabel('Grade3')\n",
    "plt.ylabel('Count')\n",
    "plt.title('Grades')"
   ]
  },
  {
   "cell_type": "markdown",
   "metadata": {},
   "source": [
    "Красным цветом указано распределение португальского, синим - математики.\n",
    "Можно увидеть, что в первом полугодии(G1) плотность на оценке от 8 до 15 намного выше у учеников португальского курса. Однако, в остальных местах плотность курсов несильно отличается."
   ]
  },
  {
   "cell_type": "code",
   "execution_count": 47,
   "metadata": {},
   "outputs": [
    {
     "data": {
      "text/plain": [
       "Text(0.5, 1.0, 'Density Plot of Final Grades(1) by Subject')"
      ]
     },
     "execution_count": 47,
     "metadata": {},
     "output_type": "execute_result"
    },
    {
     "data": {
      "image/png": "[encoded data removed]",
      "text/plain": [
       "<Figure size 432x288 with 1 Axes>"
      ]
     },
     "metadata": {
      "needs_background": "light"
     },
     "output_type": "display_data"
    }
   ],
   "source": [
    "sns.kdeplot(data[data['Subject'] == 'Por']['G1'],\n",
    "label = 'Portugese', shade = True, color = 'r')\n",
    "sns.kdeplot(data[data['Subject'] == 'Math']['G1'],\n",
    "label = 'Math', shade = True)\n",
    "plt.xlabel('Grade')\n",
    "plt.ylabel('Density')\n",
    "plt.title('Density Plot of Final Grades(1) by Subject')"
   ]
  },
  {
   "cell_type": "markdown",
   "metadata": {},
   "source": [
    "Во втором полугодии почти те же самые результаты. Единственное отличие - увеличение плотности на оценке 0 баллов, на обоих курсах количсетво несдавших возросло, но плотность 0 балла на математическом курсе все-таки больше. "
   ]
  },
  {
   "cell_type": "code",
   "execution_count": 50,
   "metadata": {},
   "outputs": [
    {
     "data": {
      "text/plain": [
       "Text(0.5, 1.0, 'Density Plot of Final Grades(2) by Subject')"
      ]
     },
     "execution_count": 50,
     "metadata": {},
     "output_type": "execute_result"
    },
    {
     "data": {
      "image/png": "[encoded data removed]",
      "text/plain": [
       "<Figure size 432x288 with 1 Axes>"
      ]
     },
     "metadata": {
      "needs_background": "light"
     },
     "output_type": "display_data"
    }
   ],
   "source": [
    "sns.kdeplot(data[data['Subject'] == 'Por']['G2'],\n",
    "label = 'Portugese', shade = True, color = 'r')\n",
    "sns.kdeplot(data[data['Subject'] == 'Math']['G2'],\n",
    "label = 'Math', shade = True)\n",
    "plt.xlabel('Grade')\n",
    "plt.ylabel('Density')\n",
    "plt.title('Density Plot of Final Grades(2) by Subject')"
   ]
  },
  {
   "cell_type": "markdown",
   "metadata": {},
   "source": [
    "На итоговой оценке попрежнему по полотности реультатов близких к оценке 10 лидиирует португальский курс, что касается оценки 0, то на математическом курсе плотность превзошла оценку 0.02, т.е сильно выросла.\n",
    "Как результат,взвесив все 3 графика, можно увидеть, что в среднем ученики португальского курса получают 10-15 баллов больше, чем ученики математического курса. Однако, встретить крайние значения(оценка 0 и оценка 20) с большей вероятностью можно у учеников математического куса.К тому же, на всех трех графиках, ученики мат курса с большей вероятностью получают оценку от 0 до 8."
   ]
  },
  {
   "cell_type": "code",
   "execution_count": 51,
   "metadata": {
    "scrolled": true
   },
   "outputs": [
    {
     "data": {
      "text/plain": [
       "Text(0.5, 1.0, 'Density Plot of Final Grades(3) by Subject')"
      ]
     },
     "execution_count": 51,
     "metadata": {},
     "output_type": "execute_result"
    },
    {
     "data": {
      "image/png": "[encoded data removed]",
      "text/plain": [
       "<Figure size 432x288 with 1 Axes>"
      ]
     },
     "metadata": {
      "needs_background": "light"
     },
     "output_type": "display_data"
    }
   ],
   "source": [
    "sns.kdeplot(data[data['Subject'] == 'Por']['G3'],\n",
    "label = 'Portugese', shade = True, color = 'r')\n",
    "sns.kdeplot(data[data['Subject'] == 'Math']['G3'],\n",
    "label = 'Math', shade = True)\n",
    "plt.xlabel('Grade')\n",
    "plt.ylabel('Density')\n",
    "plt.title('Density Plot of Final Grades(3) by Subject')"
   ]
  },
  {
   "cell_type": "markdown",
   "metadata": {},
   "source": [
    "### Задание 6 \n",
    "  \n",
    "Оцените попарные зависимости числовых признаков.  \n",
    "Рассчитайте и провизуализируйте матрицу корреляций. Дайте содержательный комментарий."
   ]
  },
  {
   "cell_type": "code",
   "execution_count": 144,
   "metadata": {},
   "outputs": [
    {
     "data": {
      "image/png": "[encoded data removed]",
      "text/plain": [
       "<Figure size 720x720 with 2 Axes>"
      ]
     },
     "metadata": {
      "needs_background": "light"
     },
     "output_type": "display_data"
    }
   ],
   "source": [
    "corr_matrix = data.corr()\n",
    "plt.figure(figsize=(10, 10))\n",
    "sns.heatmap(corr_matrix, annot=True, fmt=\".1f\", linewidths=.9, cmap=sns.light_palette(\"purple\"));"
   ]
  },
  {
   "cell_type": "markdown",
   "metadata": {},
   "source": [
    "Большинство признаков далеких от главной диагонали мало зависимы от других признаков(корелляция близка к 0.0).Однако можно увидеть следующи зависимиости:\n",
    "- Чем чаще студенты проводят время с друзьями, тем больше показатель Dalc и Walc, то есть распитие алкогольных напитков зависит от того, как часто студенты проводят время с друзьями.\n",
    "- Все три вида оценок G1,G2,G3 зависят от того,хочет ли студент получать высшее образование. Это выглядит логичным, так как их поступление и обучение в вузе напрямую зависит от их обучения в школе\n",
    "- Как ни странно возраст студента влияет на количество несдач(0.3), возможно это связано с тем, что чем старше ученик,тем больше времени он учится, следовательно, тем больше у него было шансов не сдать экзамен.\n",
    "- Очевидной выглядит зависимость studytime и G1,G2,G3, ведь чем больше студент уделяет времени образованию - тем лучше у него оценки. Правда,я ожидал, что данный коэффицент будет больше.\n",
    "- Самая очевидная зависимость - зависимость оценок за полугодее и итоговой оценки.\n",
    "- Видно, что между higher и failures присутствует отрицательная корреляция. Следовательно, если студент хочет получить высшее образование он не имеет заваленных предметов и наоборот, чем больше у ученика несдач,тем ниже вероятность того, что ему не нужно высшее образование\n",
    "- Распитие алкогольных напитков отрицательно коррелирует со studytime, видимо, ученикам приходится делать выбор либо больше времени пить алкоголь, либо больше времени уделять урокам\n",
    "- Отрицательнойзависимостью обладают travel time и internet. Чем больше travel time, тем дальше от города живет ученик и, получается, тем меньше шанс, что у него есть интернет.\n",
    "- Очень странно, что признаки freetime и absences не зависят друг от друга.Ведь если ученик пропускает занятия, то у него появляется свободное время."
   ]
  },
  {
   "cell_type": "markdown",
   "metadata": {},
   "source": [
    "### Задание 7  \n",
    "  \n",
    "Оцените попарные зависимости нечисловых (категориальных) признаков, дайте содержательный комментарий. "
   ]
  },
  {
   "cell_type": "markdown",
   "metadata": {},
   "source": [
    "Заменим данные числовыми признаками"
   ]
  },
  {
   "cell_type": "code",
   "execution_count": 8,
   "metadata": {},
   "outputs": [],
   "source": [
    "data[\"Subject\"] = data['Subject'].apply(lambda x: '1' if x=='Por' else '0')\n",
    "data[\"Subject\"] = data['Subject'].astype(int)\n",
    "data[\"school\"] = data['school'].apply(lambda x: '1' if x=='GP' else '0')\n",
    "data[\"school\"] = data['school'].astype(int)\n",
    "data[\"sex\"] = data['sex'].apply(lambda x: '1' if x=='M' else '0')\n",
    "data[\"sex\"] = data['sex'].astype(int)\n",
    "data[\"famsize\"] = data['famsize'].apply(lambda x: '1' if x=='GT3' else '0')\n",
    "data[\"famsize\"] = data['famsize'].astype(int)\n",
    "data[\"address\"] = data['address'].apply(lambda x: '1' if x=='U' else '0')\n",
    "data[\"address\"] = data['address'].astype(int)\n",
    "data[\"Pstatus\"] = data['Pstatus'].apply(lambda x: '1' if x=='T' else '0')\n",
    "data[\"Pstatus\"] = data['Pstatus'].astype(int)"
   ]
  },
  {
   "cell_type": "code",
   "execution_count": 114,
   "metadata": {},
   "outputs": [],
   "source": [
    "data_obj = data[[\"Subject\",\"school\",\"sex\",\"address\",\"famsize\",\"Pstatus\",\"Medu\",\"Fedu\"]]"
   ]
  },
  {
   "cell_type": "markdown",
   "metadata": {},
   "source": [
    "- Видно, что между адресом и школой есть зависимость равная 0.3, т.е многие студенты ходят в школу, которая находится близко к их дому, это немного очевидный показатель\n",
    "- Видна зависимость между Pstatus и fmsize, то естьчем больше семья, тем больше вероятность,что в ней родители живут совместно.\n",
    "- Есть отрицательная зависимость между предметом и школой, т.е в школе MS больше студентов математики, а в GP - португальского"
   ]
  },
  {
   "cell_type": "code",
   "execution_count": 115,
   "metadata": {},
   "outputs": [
    {
     "data": {
      "image/png": "[encoded data removed]",
      "text/plain": [
       "<Figure size 720x720 with 2 Axes>"
      ]
     },
     "metadata": {
      "needs_background": "light"
     },
     "output_type": "display_data"
    }
   ],
   "source": [
    "corr_matrix = data_obj.corr()\n",
    "plt.figure(figsize=(10, 10))\n",
    "sns.heatmap(corr_matrix, annot=True, fmt=\".1f\", linewidths=.9, cmap=sns.light_palette(\"purple\"));"
   ]
  },
  {
   "cell_type": "markdown",
   "metadata": {},
   "source": [
    "### Задание  8  \n",
    "  \n",
    "* Оцените, есть ли разница в употреблении алкоголя между парнями и девушками. Кто пьет больше?\n",
    "* Оцените связь употребления алкоголя с признаками: address, Pstatus, higher, romantic, freetime. \n",
    "* Оцените связь употребления алкоголя с уровнем образования опекуна (для случаев, где это известно).\n",
    "* Сравните употребление алкоголя для 50 лучших учеников и 50 худших (по `G3`). Выполните сравнение отдельно для каждого предмета (`Math` и `Por`). Дайте содержательный комментарий.  \n",
    "  \n",
    "**Tip:** для выполнения задания пригодятся боксплоты и гистограммы. "
   ]
  },
  {
   "cell_type": "markdown",
   "metadata": {},
   "source": [
    "Объединив в один признак Dalc и Walc, можем увидеть, что парни пьючаще девушек. Они имеют преимущетво как по среднему значению,так и выбросы по распитиюалкоголя девушками попадают под усы boxplot парней."
   ]
  },
  {
   "cell_type": "code",
   "execution_count": 74,
   "metadata": {},
   "outputs": [
    {
     "data": {
      "text/plain": [
       "<AxesSubplot:xlabel='allalc', ylabel='sex'>"
      ]
     },
     "execution_count": 74,
     "metadata": {},
     "output_type": "execute_result"
    },
    {
     "data": {
      "image/png": "[encoded data removed]",
      "text/plain": [
       "<Figure size 432x288 with 1 Axes>"
      ]
     },
     "metadata": {
      "needs_background": "light"
     },
     "output_type": "display_data"
    }
   ],
   "source": [
    "data[\"allalc\"] = data[\"Walc\"]+data[\"Dalc\"]\n",
    "sns.boxplot(x=\"allalc\",y=\"sex\",data=data)"
   ]
  },
  {
   "cell_type": "markdown",
   "metadata": {},
   "source": [
    "Зависимость алкоголя от:\n",
    "1)address(1-в городе,0-за городом) - корреляция -0.1,значит, чем меньше человек пьет алкоголя, тем больше шанс, что он живет за городом, но это очень маленькая звисимость.\n",
    "2)Pstatus(1-вместе, 0-раздельно) - корреляция 0.0,значит, распитие алкоголя никак не связано с совместной жизнью родителей. Что может показаться странным.\n",
    "3)higher(corr - -0.1) - следовательно, если ученик собирается получать высшее образование, он пьет меньше алкоголя. Видимо,алкоголь мешает учебе.\n",
    "4)romatic - корреляция нулевая, значит, романтичские отношения никак не пересекаются с распитием алкогольных напитков.\n",
    "5)freetime - корреляция 0.1,значит в небольшой степени - чем больше свободного времени у студента, тем чаще он в это время пьет алкоголь."
   ]
  },
  {
   "cell_type": "code",
   "execution_count": 75,
   "metadata": {},
   "outputs": [
    {
     "data": {
      "image/png": "[encoded data removed]",
      "text/plain": [
       "<Figure size 792x792 with 2 Axes>"
      ]
     },
     "metadata": {
      "needs_background": "light"
     },
     "output_type": "display_data"
    }
   ],
   "source": [
    "corr_matrix = data.corr()\n",
    "plt.figure(figsize=(11, 11))\n",
    "sns.heatmap(corr_matrix, annot=True, fmt=\".1f\", linewidths=.9, cmap=sns.light_palette(\"purple\"));"
   ]
  },
  {
   "cell_type": "markdown",
   "metadata": {},
   "source": [
    "Как мы видим, если у матери отсутствует образование, то повышается шанс, что ее ребенок будет пить алкоголь, с другой стороны если у нее в бэкграунде имеется начальная или средняя школа, то ее ребенок будет пить меньше других. Как ни странно,дети матерей с высшим образованием занимают высокое второе место по распитию алкоголя"
   ]
  },
  {
   "cell_type": "code",
   "execution_count": 78,
   "metadata": {},
   "outputs": [
    {
     "data": {
      "text/plain": [
       "<AxesSubplot:xlabel='Medu', ylabel='allalc'>"
      ]
     },
     "execution_count": 78,
     "metadata": {},
     "output_type": "execute_result"
    },
    {
     "data": {
      "image/png": "[encoded data removed]",
      "text/plain": [
       "<Figure size 432x288 with 1 Axes>"
      ]
     },
     "metadata": {
      "needs_background": "light"
     },
     "output_type": "display_data"
    }
   ],
   "source": [
    "sns.boxplot(x=\"Medu\",y=\"allalc\",data =data)"
   ]
  },
  {
   "cell_type": "markdown",
   "metadata": {},
   "source": [
    "Если смотерть на образование отца, то оно в равной степени влияет на распитиеалкоголя ребенком. Странным является то,что у отцов без образование дети пьют меньше других, хотя, вероятно таких наблюдений просто недостаточно."
   ]
  },
  {
   "cell_type": "code",
   "execution_count": 79,
   "metadata": {},
   "outputs": [
    {
     "data": {
      "text/plain": [
       "<AxesSubplot:xlabel='Fedu', ylabel='allalc'>"
      ]
     },
     "execution_count": 79,
     "metadata": {},
     "output_type": "execute_result"
    },
    {
     "data": {
      "image/png": "[encoded data removed]",
      "text/plain": [
       "<Figure size 432x288 with 1 Axes>"
      ]
     },
     "metadata": {
      "needs_background": "light"
     },
     "output_type": "display_data"
    }
   ],
   "source": [
    "sns.boxplot(x=\"Fedu\",y=\"allalc\",data =data)"
   ]
  },
  {
   "cell_type": "markdown",
   "metadata": {},
   "source": [
    "Очень интересно, что 50 лучших учеников по итоговой оценке среди учеников португальского пьют алкоголь в больших количествах, чем лучшие ученики математики."
   ]
  },
  {
   "cell_type": "code",
   "execution_count": 82,
   "metadata": {},
   "outputs": [
    {
     "data": {
      "text/plain": [
       "<AxesSubplot:xlabel='Subject', ylabel='allalc'>"
      ]
     },
     "execution_count": 82,
     "metadata": {},
     "output_type": "execute_result"
    },
    {
     "data": {
      "image/png": "[encoded data removed]",
      "text/plain": [
       "<Figure size 432x288 with 1 Axes>"
      ]
     },
     "metadata": {
      "needs_background": "light"
     },
     "output_type": "display_data"
    }
   ],
   "source": [
    "sns.boxplot(x=\"Subject\",y=\"allalc\",data=data.nlargest(50,'G3',keep ='all'))"
   ]
  },
  {
   "cell_type": "markdown",
   "metadata": {},
   "source": [
    "Среди худших по оценке учеников те, кто изучают португальский пьют снова намного больше математиков, причем у них даже нет выбрсов в этом показателе. В конце концов, можно сказать, что ученики португальского курса крайне пристрастились к алкоголю. 50 худших пьют больше всех учеников из топ 50 лучших и худших по португальском и математике. Интересным является тот факт, что 50 лучших по португальскому пьют примерно столько же, чколько 50 худших в математике."
   ]
  },
  {
   "cell_type": "code",
   "execution_count": 83,
   "metadata": {},
   "outputs": [
    {
     "data": {
      "text/plain": [
       "<AxesSubplot:xlabel='Subject', ylabel='allalc'>"
      ]
     },
     "execution_count": 83,
     "metadata": {},
     "output_type": "execute_result"
    },
    {
     "data": {
      "image/png": "[encoded data removed]",
      "text/plain": [
       "<Figure size 432x288 with 1 Axes>"
      ]
     },
     "metadata": {
      "needs_background": "light"
     },
     "output_type": "display_data"
    }
   ],
   "source": [
    "sns.boxplot(x=\"Subject\",y=\"allalc\",data=data.nsmallest(50,'G3',keep ='all'))"
   ]
  },
  {
   "cell_type": "code",
   "execution_count": 85,
   "metadata": {},
   "outputs": [],
   "source": [
    "data = data.drop('allalc', 1)\n",
    "data = data.drop('Pedu', 1)"
   ]
  },
  {
   "cell_type": "markdown",
   "metadata": {},
   "source": [
    "### Задание 9     \n",
    "  \n",
    "Оцените зависимость итоговой оценки от следующих признаков: \n",
    "  \n",
    "* Пола\n",
    "* Времени в пути от дома до школы\n",
    "* Наличия дополнительной помощи в учебе (от членов семьи или вообще)\n",
    "* Посещения платных дополнительных занятий\n",
    "* Наличия интернета\n",
    "* Наличия романтических отношений\n",
    "* Употребления алкоголя  "
   ]
  },
  {
   "cell_type": "markdown",
   "metadata": {},
   "source": [
    "Средняя итоговая оценка у девушек чуть выше, в остальном их оценки схожи"
   ]
  },
  {
   "cell_type": "code",
   "execution_count": 14,
   "metadata": {},
   "outputs": [
    {
     "data": {
      "text/plain": [
       "<AxesSubplot:xlabel='sex', ylabel='G3'>"
      ]
     },
     "execution_count": 14,
     "metadata": {},
     "output_type": "execute_result"
    },
    {
     "data": {
      "image/png": "[encoded data removed]",
      "text/plain": [
       "<Figure size 432x288 with 1 Axes>"
      ]
     },
     "metadata": {
      "needs_background": "light"
     },
     "output_type": "display_data"
    }
   ],
   "source": [
    "sns.boxplot(x=\"sex\",y=\"G3\",data=data)"
   ]
  },
  {
   "cell_type": "markdown",
   "metadata": {},
   "source": [
    "Видимо, чем ближе к школе живет ученик, тем выше у него средняя оценка, те, кто живет дальше всех имеют самый низкий средний бал. Хотя выбросы к нулевому баллу имеются у всех."
   ]
  },
  {
   "cell_type": "code",
   "execution_count": 15,
   "metadata": {},
   "outputs": [
    {
     "data": {
      "text/plain": [
       "<AxesSubplot:xlabel='traveltime', ylabel='G3'>"
      ]
     },
     "execution_count": 15,
     "metadata": {},
     "output_type": "execute_result"
    },
    {
     "data": {
      "image/png": "[encoded data removed]",
      "text/plain": [
       "<Figure size 432x288 with 1 Axes>"
      ]
     },
     "metadata": {
      "needs_background": "light"
     },
     "output_type": "display_data"
    }
   ],
   "source": [
    "sns.boxplot(x=\"traveltime\",y=\"G3\",data=data)"
   ]
  },
  {
   "cell_type": "markdown",
   "metadata": {},
   "source": [
    "я объединил в один признак schoolsup и famsup, те, кто имеют показатели сразу по 2 признакам я записал, как будто они имеют помощь только в одном показателе. В итоге получилось разделение на тех, кто имеет помощь и не имеет ее. \n",
    "Тут у нас довольно неожиданный результат, те, кто получают помощь имеют меньший средний бал, чем те, кому не оказывают помощь в учебе. Однако разброс у тех, кому помогают немного меньше."
   ]
  },
  {
   "cell_type": "code",
   "execution_count": 9,
   "metadata": {},
   "outputs": [],
   "source": [
    "def sup_category(sup):\n",
    "    if sup == 0:\n",
    "        return 0\n",
    "    elif sup == 1:\n",
    "        return 1\n",
    "    else:\n",
    "        return 1"
   ]
  },
  {
   "cell_type": "code",
   "execution_count": 10,
   "metadata": {},
   "outputs": [
    {
     "data": {
      "text/plain": [
       "<AxesSubplot:xlabel='allsup', ylabel='G3'>"
      ]
     },
     "execution_count": 10,
     "metadata": {},
     "output_type": "execute_result"
    },
    {
     "data": {
      "image/png": "[encoded data removed]",
      "text/plain": [
       "<Figure size 432x288 with 1 Axes>"
      ]
     },
     "metadata": {
      "needs_background": "light"
     },
     "output_type": "display_data"
    }
   ],
   "source": [
    "data[\"allsup\"] = data[\"schoolsup\"]+data[\"famsup\"]\n",
    "sup_categories = [sup_category(sup) for sup in data.allsup]\n",
    "data['allsup'] = sup_categories\n",
    "sns.boxplot(x=\"allsup\",y=\"G3\",data=data)"
   ]
  },
  {
   "cell_type": "markdown",
   "metadata": {},
   "source": [
    "Тут снова неожиданный результат. Те, кто ходят на платные курсы имеют оценки ниже, чем у обычных студентов. Может быть,это связано с тем, что они пошли на эти самые курсы из-за этих нихких показателей в учебе."
   ]
  },
  {
   "cell_type": "code",
   "execution_count": 17,
   "metadata": {},
   "outputs": [
    {
     "data": {
      "text/plain": [
       "<AxesSubplot:xlabel='paid', ylabel='G3'>"
      ]
     },
     "execution_count": 17,
     "metadata": {},
     "output_type": "execute_result"
    },
    {
     "data": {
      "image/png": "[encoded data removed]",
      "text/plain": [
       "<Figure size 432x288 with 1 Axes>"
      ]
     },
     "metadata": {
      "needs_background": "light"
     },
     "output_type": "display_data"
    }
   ],
   "source": [
    "sns.boxplot(x=\"paid\",y=\"G3\",data=data)"
   ]
  },
  {
   "cell_type": "markdown",
   "metadata": {},
   "source": [
    "Здесь все более логично. Те, кто имеет доступ в интернет - учится лучше тех,кто его не имеет."
   ]
  },
  {
   "cell_type": "code",
   "execution_count": 20,
   "metadata": {},
   "outputs": [
    {
     "data": {
      "text/plain": [
       "<AxesSubplot:xlabel='internet', ylabel='G3'>"
      ]
     },
     "execution_count": 20,
     "metadata": {},
     "output_type": "execute_result"
    },
    {
     "data": {
      "image/png": "[encoded data removed]",
      "text/plain": [
       "<Figure size 432x288 with 1 Axes>"
      ]
     },
     "metadata": {
      "needs_background": "light"
     },
     "output_type": "display_data"
    }
   ],
   "source": [
    "sns.boxplot(x=\"internet\",y=\"G3\",data=data)"
   ]
  },
  {
   "cell_type": "markdown",
   "metadata": {},
   "source": [
    "Как результат, мы видим,что романтические отношения влияют на оценку, то есть,если ученик состоит в таких отношениях - его успеваемость немного хуже."
   ]
  },
  {
   "cell_type": "code",
   "execution_count": 21,
   "metadata": {},
   "outputs": [
    {
     "data": {
      "text/plain": [
       "<AxesSubplot:xlabel='romantic', ylabel='G3'>"
      ]
     },
     "execution_count": 21,
     "metadata": {},
     "output_type": "execute_result"
    },
    {
     "data": {
      "image/png": "[encoded data removed]",
      "text/plain": [
       "<Figure size 432x288 with 1 Axes>"
      ]
     },
     "metadata": {
      "needs_background": "light"
     },
     "output_type": "display_data"
    }
   ],
   "source": [
    "sns.boxplot(x=\"romantic\",y=\"G3\",data=data)"
   ]
  },
  {
   "cell_type": "markdown",
   "metadata": {},
   "source": [
    "На это графике мы видим, что лучшие оценки в среднем да и вообще получают студенты, которые почти не пьют. Наименьший средний балл имеют студенты с суммой алкогольного распития - 6. К тому же, мы видим, что максимальный балл меньше у тех, кто пьет больше алкоголя. Необычным является тот факт, что самые пьющие студенты не имеют оценку меньше 5 баллов."
   ]
  },
  {
   "cell_type": "code",
   "execution_count": 94,
   "metadata": {},
   "outputs": [
    {
     "data": {
      "text/plain": [
       "<AxesSubplot:xlabel='allalc', ylabel='G3'>"
      ]
     },
     "execution_count": 94,
     "metadata": {},
     "output_type": "execute_result"
    },
    {
     "data": {
      "image/png": "[encoded data removed]",
      "text/plain": [
       "<Figure size 432x288 with 1 Axes>"
      ]
     },
     "metadata": {
      "needs_background": "light"
     },
     "output_type": "display_data"
    }
   ],
   "source": [
    "data[\"allalc\"] = data[\"Walc\"]+data[\"Dalc\"]\n",
    "sns.boxplot(x=\"allalc\",y=\"G3\",data=data)"
   ]
  },
  {
   "cell_type": "code",
   "execution_count": 95,
   "metadata": {},
   "outputs": [],
   "source": [
    "data = data.drop('allsup', 1)\n",
    "data = data.drop('allalc', 1)"
   ]
  },
  {
   "cell_type": "markdown",
   "metadata": {},
   "source": [
    "### Задание 10  \n",
    "  \n",
    "Добавьте в данные новый признак - итоговая оценка по 4-х балльной шкале:  \n",
    "\n",
    "* Отлично: 18 <= `G3` <= 20\n",
    "* Хорошо: 14 <= `G3` <= 17\n",
    "* Удовлетворительно: 8 <= `G3` <= 13\n",
    "* Неудовлетворительно: `G3` < 8  \n",
    "  \n",
    "Оцените распределение нового признака в зависимости от признака `reason` (причина выбора школы). Дайте содержательный комментарий. "
   ]
  },
  {
   "cell_type": "code",
   "execution_count": 11,
   "metadata": {},
   "outputs": [],
   "source": [
    "def g_category(g):\n",
    "    if 18 <= g <= 20:\n",
    "        return 4\n",
    "    elif 14 <= g <= 17:\n",
    "        return 3\n",
    "    elif 8 <= g <= 13:\n",
    "        return 2\n",
    "    else:\n",
    "        return 1"
   ]
  },
  {
   "cell_type": "code",
   "execution_count": 12,
   "metadata": {},
   "outputs": [
    {
     "data": {
      "text/plain": [
       "2    650\n",
       "3    259\n",
       "1    100\n",
       "4     35\n",
       "Name: G_category, dtype: int64"
      ]
     },
     "execution_count": 12,
     "metadata": {},
     "output_type": "execute_result"
    }
   ],
   "source": [
    "G_categories = [g_category(G) for G in data.G3]\n",
    "data['G_category'] = G_categories\n",
    "data.G_category.value_counts()"
   ]
  },
  {
   "cell_type": "markdown",
   "metadata": {},
   "source": [
    "как мы видим, среди учеников получивших максимальный балл причины: course,home,reputation имеют равную плотнось, чуть меньшую - причины other. На оценке 4: самой распространенной причиной является репутация школы, одинаковой распределение оценка 3 получила у причин home и couse. другие причины наименее популярны. Далее мы видим, что среди тех, кто получил оценку 2 наиболее популярной причиной выбора школы стал курс,преподаваемый в школе, далее - нахождение школы рядом с домом. На удивление репутаци школы для ученико с оценкой 2 менее важна, чем другие причины. У учеников с самой плохой оценкой лидируют course и other. \n",
    "Таким образом, по мере увеличения оценки у учеников основным требованием к школе является репутация, по мере уменьшения оценки - курсы, которые там ведутся. Примерно одинаковым по важности для всех оценок является критерий близость от дома."
   ]
  },
  {
   "cell_type": "code",
   "execution_count": 105,
   "metadata": {},
   "outputs": [
    {
     "data": {
      "text/plain": [
       "Text(0.5, 1.0, 'Density Plot of Final Grades by reason')"
      ]
     },
     "execution_count": 105,
     "metadata": {},
     "output_type": "execute_result"
    },
    {
     "data": {
      "image/png": "[encoded data removed]",
      "text/plain": [
       "<Figure size 432x288 with 1 Axes>"
      ]
     },
     "metadata": {
      "needs_background": "light"
     },
     "output_type": "display_data"
    }
   ],
   "source": [
    "sns.kdeplot(data[data['reason'] == 'course']['G_category'],\n",
    "label = 'course', shade = False, color = 'r')\n",
    "sns.kdeplot(data[data['reason'] == 'home']['G_category'],\n",
    "label = 'home', shade = False, color = \"b\")\n",
    "sns.kdeplot(data[data['reason'] == 'reputation']['G_category'],\n",
    "label = 'reputation', shade = False, color = 'g')\n",
    "sns.kdeplot(data[data['reason'] == 'other']['G_category'],\n",
    "label = 'other', shade = False,color=\"y\")\n",
    "plt.xlabel('Grade')\n",
    "plt.ylabel('Density')\n",
    "plt.title('Density Plot of Final Grades by reason')"
   ]
  },
  {
   "cell_type": "markdown",
   "metadata": {},
   "source": [
    "### Задание  11 <a id=\"task11\"></a>  \n",
    "  \n",
    "Часть из представленных в данных студентов посещали оба курса - `Math` и `Por`.  \n",
    "* Предложите способ идентификации студентов и определите тех, кто посещал оба курса. Сколько таких студентов?  \n",
    "* Для этих студентов сравните оценки по двум предметам, дайте комментарий.  \n",
    "  \n",
    "**Note:** Столбец `ID` является уникальным идентификатором наблюдения, но не студента. Он будет уникален для каждой строки."
   ]
  },
  {
   "cell_type": "markdown",
   "metadata": {},
   "source": [
    "В таблице 614 дубликатов, т.е 307 человек ходили на 2 курса "
   ]
  },
  {
   "cell_type": "markdown",
   "metadata": {},
   "source": [
    "Для анализа я вычеркнул те признаки, которые могут быть уникальными для каждого предмета - subject,absences,G1,G2,G3 и тд, т.е те признаки, которые непосредственно связаны с курсом."
   ]
  },
  {
   "cell_type": "code",
   "execution_count": 81,
   "metadata": {},
   "outputs": [
    {
     "data": {
      "text/plain": [
       "True    614\n",
       "dtype: int64"
      ]
     },
     "execution_count": 81,
     "metadata": {},
     "output_type": "execute_result"
    }
   ],
   "source": [
    "data_new.duplicated(subset=[\"school\",\"sex\", 'age', 'address', 'famsize', 'Pstatus','Medu', 'Fedu', 'Mjob', 'Fjob', 'reason', 'guardian', 'traveltime', 'failures', 'activities', 'nursery', 'higher', 'internet', 'romantic', 'famrel', 'freetime', 'goout', 'Dalc', 'Walc', 'health'],keep=False).value_counts()"
   ]
  },
  {
   "cell_type": "code",
   "execution_count": 33,
   "metadata": {},
   "outputs": [],
   "source": [
    "def id_cnt(l):\n",
    "    l1 = []\n",
    "    cnt = 0\n",
    "    for i in data[\"ID\"]:\n",
    "        if cnt in l:\n",
    "            l1.append(i)\n",
    "        cnt = cnt+1\n",
    "    return l1"
   ]
  },
  {
   "cell_type": "code",
   "execution_count": 74,
   "metadata": {},
   "outputs": [
    {
     "data": {
      "text/plain": [
       "Subject\n",
       "0    10.993443\n",
       "1    12.825243\n",
       "Name: G3, dtype: float64"
      ]
     },
     "execution_count": 74,
     "metadata": {},
     "output_type": "execute_result"
    }
   ],
   "source": [
    "counter = 0\n",
    "data_new = data\n",
    "l = data_new.duplicated(subset=[\"school\",\"sex\", 'age', 'address', 'famsize', 'Pstatus','Medu', 'Fedu', 'Mjob', 'Fjob', 'reason', 'guardian', 'traveltime', 'failures', 'activities', 'nursery', 'higher', 'internet', 'romantic', 'famrel', 'freetime', 'goout', 'Dalc', 'Walc', 'health'],keep=False).to_list()\n",
    "counter = 0\n",
    "l1 = []\n",
    "for i in l:\n",
    "    if i ==True:\n",
    "        l1.append(counter)\n",
    "    counter = counter+1\n",
    "l1 = id_cnt(l1)\n",
    "for i in data_new[\"ID\"]:\n",
    "    if i not in l1:\n",
    "        data_new.drop(data_new[(data_new[\"ID\"]==i)].index, inplace=True)\n",
    "data_new.groupby(\"Subject\").G3.mean()"
   ]
  },
  {
   "cell_type": "markdown",
   "metadata": {},
   "source": [
    "Как мы видим оценка португальского курса учеников, которые ходят сразу на два курса выше на 2 балла, чем оценка математатического курса"
   ]
  },
  {
   "cell_type": "code",
   "execution_count": 77,
   "metadata": {},
   "outputs": [
    {
     "data": {
      "text/plain": [
       "Text(0.5, 1.0, 'Density Plot of Final Grades(3) by Subject')"
      ]
     },
     "execution_count": 77,
     "metadata": {},
     "output_type": "execute_result"
    },
    {
     "data": {
      "image/png": "[encoded data removed]",
      "text/plain": [
       "<Figure size 432x288 with 1 Axes>"
      ]
     },
     "metadata": {
      "needs_background": "light"
     },
     "output_type": "display_data"
    }
   ],
   "source": [
    "sns.kdeplot(data_new[data_new['Subject'] == 1]['G3'],\n",
    "label = 'Portugese', shade = True, color = 'r')\n",
    "sns.kdeplot(data_new[data_new['Subject'] == 0]['G3'],\n",
    "label = 'Math', shade = True)\n",
    "plt.xlabel('Grade')\n",
    "plt.ylabel('Density')\n",
    "plt.title('Density Plot of Final Grades(3) by Subject')"
   ]
  },
  {
   "cell_type": "markdown",
   "metadata": {},
   "source": [
    "Что касается плотности распределения, то на португальском курсе плотность стремится к своему максимуму ближе к 15 баллам, в то яремя как мат курс находиится около 10. И плотность распределения 0 балла среди математического курса так же выше."
   ]
  },
  {
   "cell_type": "markdown",
   "metadata": {},
   "source": [
    "### Задание 12  \n",
    "  \n",
    "Предложите простую модель для определения (предсказания) итоговой оценки студента по 4-х балльной системе. Оцените точность предложенной модели. "
   ]
  },
  {
   "cell_type": "markdown",
   "metadata": {},
   "source": [
    "для оценки 4 балла:\n",
    "failures = 0, higher = 1, studytime = 4, school = GP(1), subject = Por(1), internet = yes, Dalc = 1 or 2, Walc = 1 or 2;sex = F(0)\n",
    "\n",
    "для оценки 3 балла:\n",
    "failures = 1, higher = 1, studytime = 3, school = GP(1), subject = Por(1), internet = yes, Dalc = 1,2 or 3, Walc = 1,2 or 3;\n",
    "\n",
    "для оценки 2 балла:\n",
    "failures = 2, higher = 0, studytime = 2, school = MS(0), subject = Math(0), internet = yes, Dalc = 2,3 or 4, Walc = 2,3 or 4;\n",
    "\n",
    "для оценки 1 балл:\n",
    "failures = 2-3, higher = 0, studytime = 1, school = MS(0), subject = Math(0), internet = no, Dalc = 3,4 or 5, Walc = 3,4 or 5;"
   ]
  },
  {
   "cell_type": "markdown",
   "metadata": {},
   "source": [
    "Данную модель я строил изходя из heatmap, ориентируясь на корреляцию признаков G1,G2,G3 с другими признаками. Чем больше failures, тем ниже оценка, корреляция -0.4. Если higher = 1(yes), то судент получит оценку выше(корреляция 0.2 - 0.3). Чем выше studytime - тем выше оценка(corr = 0.2). У учеников GP средняя оценка выше(под таблицей хитмапприведены доказательства), так же у учеников португальского оценка выше. Наличие интернета так же влияет на хорошую оценку. Не менее важным признаком для получения 4 является пол( если пол мужской, то корреляция с алкоголем 0.3, а алкоголь плохо влияет на максимальный бал,судя по таблице)"
   ]
  },
  {
   "cell_type": "code",
   "execution_count": 129,
   "metadata": {},
   "outputs": [
    {
     "data": {
      "image/png": "[encoded data removed]",
      "text/plain": [
       "<Figure size 864x864 with 2 Axes>"
      ]
     },
     "metadata": {
      "needs_background": "light"
     },
     "output_type": "display_data"
    }
   ],
   "source": [
    "corr_matrix = data.corr()\n",
    "plt.figure(figsize=(12, 12))\n",
    "sns.heatmap(corr_matrix, annot=True, fmt=\".1f\", linewidths=.9, cmap=sns.light_palette(\"purple\"));"
   ]
  },
  {
   "cell_type": "code",
   "execution_count": 137,
   "metadata": {},
   "outputs": [
    {
     "data": {
      "text/plain": [
       "Subject\n",
       "0    10.415190\n",
       "1    11.906009\n",
       "Name: G3, dtype: float64"
      ]
     },
     "execution_count": 137,
     "metadata": {},
     "output_type": "execute_result"
    }
   ],
   "source": [
    "data.groupby(\"Subject\").G3.mean()"
   ]
  },
  {
   "cell_type": "code",
   "execution_count": 138,
   "metadata": {},
   "outputs": [
    {
     "data": {
      "text/plain": [
       "school\n",
       "0    10.514706\n",
       "1    11.633420\n",
       "Name: G3, dtype: float64"
      ]
     },
     "execution_count": 138,
     "metadata": {},
     "output_type": "execute_result"
    }
   ],
   "source": [
    "data.groupby(\"school\").G3.mean()"
   ]
  },
  {
   "cell_type": "markdown",
   "metadata": {},
   "source": [
    "### Задание * (бонусное)  \n",
    "  \n",
    "Дополнительное исследование данных и выводы положительно скажутся на оценке. "
   ]
  },
  {
   "cell_type": "markdown",
   "metadata": {},
   "source": [
    "Исследуем признак higher, судя по таблицам корреляции он взаимодействует со многими параметрами и влияет на них."
   ]
  },
  {
   "cell_type": "markdown",
   "metadata": {},
   "source": [
    "Очень интересный результат сравнения higher и age. Судя по всему, с увеличением возраста ученики все меньше интересуются получением высшего образования."
   ]
  },
  {
   "cell_type": "code",
   "execution_count": 84,
   "metadata": {},
   "outputs": [
    {
     "data": {
      "text/plain": [
       "<AxesSubplot:xlabel='higher', ylabel='age'>"
      ]
     },
     "execution_count": 84,
     "metadata": {},
     "output_type": "execute_result"
    },
    {
     "data": {
      "image/png": "[encoded data removed]",
      "text/plain": [
       "<Figure size 432x288 with 1 Axes>"
      ]
     },
     "metadata": {
      "needs_background": "light"
     },
     "output_type": "display_data"
    }
   ],
   "source": [
    "sns.boxplot(x=\"higher\",y=\"age\",data=data)"
   ]
  },
  {
   "cell_type": "markdown",
   "metadata": {},
   "source": [
    "Величина итоговой оценки у тех ребят, которые собираются получать высшее образование выше,чем у остальных"
   ]
  },
  {
   "cell_type": "code",
   "execution_count": 82,
   "metadata": {},
   "outputs": [
    {
     "data": {
      "text/plain": [
       "<AxesSubplot:xlabel='higher', ylabel='G3'>"
      ]
     },
     "execution_count": 82,
     "metadata": {},
     "output_type": "execute_result"
    },
    {
     "data": {
      "image/png": "[encoded data removed]",
      "text/plain": [
       "<Figure size 432x288 with 1 Axes>"
      ]
     },
     "metadata": {
      "needs_background": "light"
     },
     "output_type": "display_data"
    }
   ],
   "source": [
    "sns.boxplot(x=\"higher\",y=\"G3\",data=data)"
   ]
  },
  {
   "cell_type": "markdown",
   "metadata": {},
   "source": [
    "Проверив зависимость higher и failures, можно сделать выводы, что ученики, которые получали неудовлетворительный резульаты в учебе не собираются получать высшееобразование, или же, наоборот, среди учеников, которые не хотят высшего образования имеется тенденция получать неуды."
   ]
  },
  {
   "cell_type": "code",
   "execution_count": 85,
   "metadata": {},
   "outputs": [
    {
     "data": {
      "text/plain": [
       "<AxesSubplot:xlabel='higher', ylabel='failures'>"
      ]
     },
     "execution_count": 85,
     "metadata": {},
     "output_type": "execute_result"
    },
    {
     "data": {
      "image/png": "[encoded data removed]",
      "text/plain": [
       "<Figure size 432x288 with 1 Axes>"
      ]
     },
     "metadata": {
      "needs_background": "light"
     },
     "output_type": "display_data"
    }
   ],
   "source": [
    "sns.boxplot(x=\"higher\",y=\"failures\",data=data)"
   ]
  },
  {
   "cell_type": "markdown",
   "metadata": {},
   "source": [
    "Можно проверить зависимость оценки по 4-х балльной системе от возраста учеников. Как мы видим, чем старше ученик,тем ниже его итоговая оценка, к 19-22 годам максмальные значения оценок студентов лишь прближаются к средним значениям прежних лет."
   ]
  },
  {
   "cell_type": "code",
   "execution_count": 87,
   "metadata": {},
   "outputs": [
    {
     "data": {
      "text/plain": [
       "<AxesSubplot:xlabel='age', ylabel='G_category'>"
      ]
     },
     "execution_count": 87,
     "metadata": {},
     "output_type": "execute_result"
    },
    {
     "data": {
      "image/png": "[encoded data removed]",
      "text/plain": [
       "<Figure size 432x288 with 1 Axes>"
      ]
     },
     "metadata": {
      "needs_background": "light"
     },
     "output_type": "display_data"
    }
   ],
   "source": [
    "sns.boxplot(x=\"age\",y=\"G_category\",data=data)"
   ]
  }
 ],
 "metadata": {
  "kernelspec": {
   "display_name": "Python 3",
   "language": "python",
   "name": "python3"
  },
  "language_info": {
   "codemirror_mode": {
    "name": "ipython",
    "version": 3
   },
   "file_extension": ".py",
   "mimetype": "text/x-python",
   "name": "python",
   "nbconvert_exporter": "python",
   "pygments_lexer": "ipython3",
   "version": "3.8.5"
  }
 },
 "nbformat": 4,
 "nbformat_minor": 1
}
